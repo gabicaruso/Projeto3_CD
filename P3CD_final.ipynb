{
 "cells": [
  {
   "cell_type": "markdown",
   "metadata": {},
   "source": [
    "___\n",
    "# Ciência dos Dados - Projeto 3: Filmes#\n",
    "___\n",
    "\n",
    "### _Gabriela Caruso e Mariana Abrantes - 2C_ ###\n",
    "___"
   ]
  },
  {
   "cell_type": "markdown",
   "metadata": {},
   "source": [
    "## Objetivo ##\n",
    "\n",
    "Desenvolver um programa que cria uma playlist de filmes similares a um outro usado como parâmetro.\n"
   ]
  },
  {
   "cell_type": "markdown",
   "metadata": {},
   "source": [
    "## Imports ##"
   ]
  },
  {
   "cell_type": "code",
   "execution_count": 98,
   "metadata": {},
   "outputs": [],
   "source": [
    "%matplotlib inline\n",
    "%reset -f\n",
    "import pandas as pd\n",
    "import numpy as np\n",
    "import matplotlib.pyplot as plt\n",
    "import matplotlib\n",
    "import math\n",
    "import scipy\n",
    "import seaborn as sb\n",
    "import sklearn\n",
    "import sklearn.metrics as sm\n",
    "\n",
    "from scipy.stats import norm\n",
    "from mpl_toolkits.mplot3d import Axes3D\n",
    "from sklearn import cluster, datasets\n",
    "from sklearn.neighbors import kneighbors_graph\n",
    "from sklearn.preprocessing import StandardScaler\n",
    "from sklearn.cluster import AgglomerativeClustering\n",
    "\n",
    "from scipy.cluster.hierarchy import dendrogram, linkage\n",
    "from scipy.cluster.hierarchy import fcluster\n",
    "from scipy.cluster.hierarchy import cophenet\n",
    "from scipy.spatial.distance import pdist\n",
    "\n",
    "from pylab import rcParams\n",
    "\n",
    "np.random.seed(42)"
   ]
  },
  {
   "cell_type": "markdown",
   "metadata": {},
   "source": [
    "## Lendo as tabelas"
   ]
  },
  {
   "cell_type": "code",
   "execution_count": 99,
   "metadata": {},
   "outputs": [],
   "source": [
    "#df = pd.read_csv('https://query.data.world/s/dgju3rv2knocz2ost6qyly7vwyekcv')\n",
    "#writer = pd.ExcelWriter('Projeto3_CD.xlsx')\n",
    "#df.to_excel(writer,'data')\n",
    "#writer.save()"
   ]
  },
  {
   "cell_type": "code",
   "execution_count": 100,
   "metadata": {
    "scrolled": true
   },
   "outputs": [
    {
     "data": {
      "text/html": [
       "<div>\n",
       "<style scoped>\n",
       "    .dataframe tbody tr th:only-of-type {\n",
       "        vertical-align: middle;\n",
       "    }\n",
       "\n",
       "    .dataframe tbody tr th {\n",
       "        vertical-align: top;\n",
       "    }\n",
       "\n",
       "    .dataframe thead th {\n",
       "        text-align: right;\n",
       "    }\n",
       "</style>\n",
       "<table border=\"1\" class=\"dataframe\">\n",
       "  <thead>\n",
       "    <tr style=\"text-align: right;\">\n",
       "      <th></th>\n",
       "      <th>color</th>\n",
       "      <th>director_name</th>\n",
       "      <th>num_critic_for_reviews</th>\n",
       "      <th>duration</th>\n",
       "      <th>director_facebook_likes</th>\n",
       "      <th>actor_3_facebook_likes</th>\n",
       "      <th>actor_2_name</th>\n",
       "      <th>actor_1_facebook_likes</th>\n",
       "      <th>gross</th>\n",
       "      <th>genres</th>\n",
       "      <th>...</th>\n",
       "      <th>num_user_for_reviews</th>\n",
       "      <th>language</th>\n",
       "      <th>country</th>\n",
       "      <th>content_rating</th>\n",
       "      <th>budget</th>\n",
       "      <th>title_year</th>\n",
       "      <th>actor_2_facebook_likes</th>\n",
       "      <th>imdb_score</th>\n",
       "      <th>aspect_ratio</th>\n",
       "      <th>movie_facebook_likes</th>\n",
       "    </tr>\n",
       "  </thead>\n",
       "  <tbody>\n",
       "    <tr>\n",
       "      <th>0</th>\n",
       "      <td>Color</td>\n",
       "      <td>James Cameron</td>\n",
       "      <td>723.0</td>\n",
       "      <td>178.0</td>\n",
       "      <td>0.0</td>\n",
       "      <td>855.0</td>\n",
       "      <td>Joel David Moore</td>\n",
       "      <td>1000.0</td>\n",
       "      <td>760505847.0</td>\n",
       "      <td>Action|Adventure|Fantasy|Sci-Fi</td>\n",
       "      <td>...</td>\n",
       "      <td>3054.0</td>\n",
       "      <td>English</td>\n",
       "      <td>USA</td>\n",
       "      <td>PG-13</td>\n",
       "      <td>237000000.0</td>\n",
       "      <td>2009.0</td>\n",
       "      <td>936.0</td>\n",
       "      <td>7.9</td>\n",
       "      <td>1.78</td>\n",
       "      <td>33000</td>\n",
       "    </tr>\n",
       "    <tr>\n",
       "      <th>1</th>\n",
       "      <td>Color</td>\n",
       "      <td>Gore Verbinski</td>\n",
       "      <td>302.0</td>\n",
       "      <td>169.0</td>\n",
       "      <td>563.0</td>\n",
       "      <td>1000.0</td>\n",
       "      <td>Orlando Bloom</td>\n",
       "      <td>40000.0</td>\n",
       "      <td>309404152.0</td>\n",
       "      <td>Action|Adventure|Fantasy</td>\n",
       "      <td>...</td>\n",
       "      <td>1238.0</td>\n",
       "      <td>English</td>\n",
       "      <td>USA</td>\n",
       "      <td>PG-13</td>\n",
       "      <td>300000000.0</td>\n",
       "      <td>2007.0</td>\n",
       "      <td>5000.0</td>\n",
       "      <td>7.1</td>\n",
       "      <td>2.35</td>\n",
       "      <td>0</td>\n",
       "    </tr>\n",
       "    <tr>\n",
       "      <th>2</th>\n",
       "      <td>Color</td>\n",
       "      <td>Sam Mendes</td>\n",
       "      <td>602.0</td>\n",
       "      <td>148.0</td>\n",
       "      <td>0.0</td>\n",
       "      <td>161.0</td>\n",
       "      <td>Rory Kinnear</td>\n",
       "      <td>11000.0</td>\n",
       "      <td>200074175.0</td>\n",
       "      <td>Action|Adventure|Thriller</td>\n",
       "      <td>...</td>\n",
       "      <td>994.0</td>\n",
       "      <td>English</td>\n",
       "      <td>UK</td>\n",
       "      <td>PG-13</td>\n",
       "      <td>245000000.0</td>\n",
       "      <td>2015.0</td>\n",
       "      <td>393.0</td>\n",
       "      <td>6.8</td>\n",
       "      <td>2.35</td>\n",
       "      <td>85000</td>\n",
       "    </tr>\n",
       "    <tr>\n",
       "      <th>3</th>\n",
       "      <td>Color</td>\n",
       "      <td>Christopher Nolan</td>\n",
       "      <td>813.0</td>\n",
       "      <td>164.0</td>\n",
       "      <td>22000.0</td>\n",
       "      <td>23000.0</td>\n",
       "      <td>Christian Bale</td>\n",
       "      <td>27000.0</td>\n",
       "      <td>448130642.0</td>\n",
       "      <td>Action|Thriller</td>\n",
       "      <td>...</td>\n",
       "      <td>2701.0</td>\n",
       "      <td>English</td>\n",
       "      <td>USA</td>\n",
       "      <td>PG-13</td>\n",
       "      <td>250000000.0</td>\n",
       "      <td>2012.0</td>\n",
       "      <td>23000.0</td>\n",
       "      <td>8.5</td>\n",
       "      <td>2.35</td>\n",
       "      <td>164000</td>\n",
       "    </tr>\n",
       "    <tr>\n",
       "      <th>4</th>\n",
       "      <td>NaN</td>\n",
       "      <td>Doug Walker</td>\n",
       "      <td>NaN</td>\n",
       "      <td>NaN</td>\n",
       "      <td>131.0</td>\n",
       "      <td>NaN</td>\n",
       "      <td>Rob Walker</td>\n",
       "      <td>131.0</td>\n",
       "      <td>NaN</td>\n",
       "      <td>Documentary</td>\n",
       "      <td>...</td>\n",
       "      <td>NaN</td>\n",
       "      <td>NaN</td>\n",
       "      <td>NaN</td>\n",
       "      <td>NaN</td>\n",
       "      <td>NaN</td>\n",
       "      <td>NaN</td>\n",
       "      <td>12.0</td>\n",
       "      <td>7.1</td>\n",
       "      <td>NaN</td>\n",
       "      <td>0</td>\n",
       "    </tr>\n",
       "  </tbody>\n",
       "</table>\n",
       "<p>5 rows × 28 columns</p>\n",
       "</div>"
      ],
      "text/plain": [
       "   color      director_name  num_critic_for_reviews  duration  \\\n",
       "0  Color      James Cameron                   723.0     178.0   \n",
       "1  Color     Gore Verbinski                   302.0     169.0   \n",
       "2  Color         Sam Mendes                   602.0     148.0   \n",
       "3  Color  Christopher Nolan                   813.0     164.0   \n",
       "4    NaN        Doug Walker                     NaN       NaN   \n",
       "\n",
       "   director_facebook_likes  actor_3_facebook_likes      actor_2_name  \\\n",
       "0                      0.0                   855.0  Joel David Moore   \n",
       "1                    563.0                  1000.0     Orlando Bloom   \n",
       "2                      0.0                   161.0      Rory Kinnear   \n",
       "3                  22000.0                 23000.0    Christian Bale   \n",
       "4                    131.0                     NaN        Rob Walker   \n",
       "\n",
       "   actor_1_facebook_likes        gross                           genres  \\\n",
       "0                  1000.0  760505847.0  Action|Adventure|Fantasy|Sci-Fi   \n",
       "1                 40000.0  309404152.0         Action|Adventure|Fantasy   \n",
       "2                 11000.0  200074175.0        Action|Adventure|Thriller   \n",
       "3                 27000.0  448130642.0                  Action|Thriller   \n",
       "4                   131.0          NaN                      Documentary   \n",
       "\n",
       "          ...          num_user_for_reviews language  country  content_rating  \\\n",
       "0         ...                        3054.0  English      USA           PG-13   \n",
       "1         ...                        1238.0  English      USA           PG-13   \n",
       "2         ...                         994.0  English       UK           PG-13   \n",
       "3         ...                        2701.0  English      USA           PG-13   \n",
       "4         ...                           NaN      NaN      NaN             NaN   \n",
       "\n",
       "        budget  title_year actor_2_facebook_likes imdb_score  aspect_ratio  \\\n",
       "0  237000000.0      2009.0                  936.0        7.9          1.78   \n",
       "1  300000000.0      2007.0                 5000.0        7.1          2.35   \n",
       "2  245000000.0      2015.0                  393.0        6.8          2.35   \n",
       "3  250000000.0      2012.0                23000.0        8.5          2.35   \n",
       "4          NaN         NaN                   12.0        7.1           NaN   \n",
       "\n",
       "  movie_facebook_likes  \n",
       "0                33000  \n",
       "1                    0  \n",
       "2                85000  \n",
       "3               164000  \n",
       "4                    0  \n",
       "\n",
       "[5 rows x 28 columns]"
      ]
     },
     "execution_count": 100,
     "metadata": {},
     "output_type": "execute_result"
    }
   ],
   "source": [
    "df = pd.read_excel('Projeto3_CD.xlsx')\n",
    "df.head()"
   ]
  },
  {
   "cell_type": "markdown",
   "metadata": {},
   "source": [
    "## Eliminando colunas"
   ]
  },
  {
   "cell_type": "markdown",
   "metadata": {},
   "source": [
    "O dataset escolhido vinham com 16 colunas, nas quais nem todas eram importantes para a criação da playlist. As colunas que foram deletadas foram: audio/linguagem, link do filme, tamanho da tela, poster do facebook, palavras-chaves, numero de criticas, numero de reviews e likes do facebook dos atores e diretores. Elas não nos traziam informações relevantes para a agrupação, portanto foram deletadas."
   ]
  },
  {
   "cell_type": "code",
   "execution_count": 101,
   "metadata": {
    "scrolled": true
   },
   "outputs": [
    {
     "data": {
      "text/html": [
       "<div>\n",
       "<style scoped>\n",
       "    .dataframe tbody tr th:only-of-type {\n",
       "        vertical-align: middle;\n",
       "    }\n",
       "\n",
       "    .dataframe tbody tr th {\n",
       "        vertical-align: top;\n",
       "    }\n",
       "\n",
       "    .dataframe thead th {\n",
       "        text-align: right;\n",
       "    }\n",
       "</style>\n",
       "<table border=\"1\" class=\"dataframe\">\n",
       "  <thead>\n",
       "    <tr style=\"text-align: right;\">\n",
       "      <th></th>\n",
       "      <th>color</th>\n",
       "      <th>director_name</th>\n",
       "      <th>duration</th>\n",
       "      <th>actor_2_name</th>\n",
       "      <th>gross</th>\n",
       "      <th>genres</th>\n",
       "      <th>actor_1_name</th>\n",
       "      <th>movie_title</th>\n",
       "      <th>cast_total_facebook_likes</th>\n",
       "      <th>actor_3_name</th>\n",
       "      <th>country</th>\n",
       "      <th>content_rating</th>\n",
       "      <th>budget</th>\n",
       "      <th>title_year</th>\n",
       "      <th>imdb_score</th>\n",
       "      <th>movie_facebook_likes</th>\n",
       "    </tr>\n",
       "  </thead>\n",
       "  <tbody>\n",
       "    <tr>\n",
       "      <th>0</th>\n",
       "      <td>Color</td>\n",
       "      <td>James Cameron</td>\n",
       "      <td>178.0</td>\n",
       "      <td>Joel David Moore</td>\n",
       "      <td>760505847.0</td>\n",
       "      <td>Action|Adventure|Fantasy|Sci-Fi</td>\n",
       "      <td>CCH Pounder</td>\n",
       "      <td>Avatar</td>\n",
       "      <td>4834</td>\n",
       "      <td>Wes Studi</td>\n",
       "      <td>USA</td>\n",
       "      <td>PG-13</td>\n",
       "      <td>237000000.0</td>\n",
       "      <td>2009.0</td>\n",
       "      <td>7.9</td>\n",
       "      <td>33000</td>\n",
       "    </tr>\n",
       "    <tr>\n",
       "      <th>1</th>\n",
       "      <td>Color</td>\n",
       "      <td>Gore Verbinski</td>\n",
       "      <td>169.0</td>\n",
       "      <td>Orlando Bloom</td>\n",
       "      <td>309404152.0</td>\n",
       "      <td>Action|Adventure|Fantasy</td>\n",
       "      <td>Johnny Depp</td>\n",
       "      <td>Pirates of the Caribbean: At World's End</td>\n",
       "      <td>48350</td>\n",
       "      <td>Jack Davenport</td>\n",
       "      <td>USA</td>\n",
       "      <td>PG-13</td>\n",
       "      <td>300000000.0</td>\n",
       "      <td>2007.0</td>\n",
       "      <td>7.1</td>\n",
       "      <td>0</td>\n",
       "    </tr>\n",
       "    <tr>\n",
       "      <th>2</th>\n",
       "      <td>Color</td>\n",
       "      <td>Sam Mendes</td>\n",
       "      <td>148.0</td>\n",
       "      <td>Rory Kinnear</td>\n",
       "      <td>200074175.0</td>\n",
       "      <td>Action|Adventure|Thriller</td>\n",
       "      <td>Christoph Waltz</td>\n",
       "      <td>Spectre</td>\n",
       "      <td>11700</td>\n",
       "      <td>Stephanie Sigman</td>\n",
       "      <td>UK</td>\n",
       "      <td>PG-13</td>\n",
       "      <td>245000000.0</td>\n",
       "      <td>2015.0</td>\n",
       "      <td>6.8</td>\n",
       "      <td>85000</td>\n",
       "    </tr>\n",
       "    <tr>\n",
       "      <th>3</th>\n",
       "      <td>Color</td>\n",
       "      <td>Christopher Nolan</td>\n",
       "      <td>164.0</td>\n",
       "      <td>Christian Bale</td>\n",
       "      <td>448130642.0</td>\n",
       "      <td>Action|Thriller</td>\n",
       "      <td>Tom Hardy</td>\n",
       "      <td>The Dark Knight Rises</td>\n",
       "      <td>106759</td>\n",
       "      <td>Joseph Gordon-Levitt</td>\n",
       "      <td>USA</td>\n",
       "      <td>PG-13</td>\n",
       "      <td>250000000.0</td>\n",
       "      <td>2012.0</td>\n",
       "      <td>8.5</td>\n",
       "      <td>164000</td>\n",
       "    </tr>\n",
       "    <tr>\n",
       "      <th>5</th>\n",
       "      <td>Color</td>\n",
       "      <td>Andrew Stanton</td>\n",
       "      <td>132.0</td>\n",
       "      <td>Samantha Morton</td>\n",
       "      <td>73058679.0</td>\n",
       "      <td>Action|Adventure|Sci-Fi</td>\n",
       "      <td>Daryl Sabara</td>\n",
       "      <td>John Carter</td>\n",
       "      <td>1873</td>\n",
       "      <td>Polly Walker</td>\n",
       "      <td>USA</td>\n",
       "      <td>PG-13</td>\n",
       "      <td>263700000.0</td>\n",
       "      <td>2012.0</td>\n",
       "      <td>6.6</td>\n",
       "      <td>24000</td>\n",
       "    </tr>\n",
       "  </tbody>\n",
       "</table>\n",
       "</div>"
      ],
      "text/plain": [
       "   color      director_name  duration      actor_2_name        gross  \\\n",
       "0  Color      James Cameron     178.0  Joel David Moore  760505847.0   \n",
       "1  Color     Gore Verbinski     169.0     Orlando Bloom  309404152.0   \n",
       "2  Color         Sam Mendes     148.0      Rory Kinnear  200074175.0   \n",
       "3  Color  Christopher Nolan     164.0    Christian Bale  448130642.0   \n",
       "5  Color     Andrew Stanton     132.0   Samantha Morton   73058679.0   \n",
       "\n",
       "                            genres     actor_1_name  \\\n",
       "0  Action|Adventure|Fantasy|Sci-Fi      CCH Pounder   \n",
       "1         Action|Adventure|Fantasy      Johnny Depp   \n",
       "2        Action|Adventure|Thriller  Christoph Waltz   \n",
       "3                  Action|Thriller        Tom Hardy   \n",
       "5          Action|Adventure|Sci-Fi     Daryl Sabara   \n",
       "\n",
       "                                 movie_title  cast_total_facebook_likes  \\\n",
       "0                                    Avatar                        4834   \n",
       "1  Pirates of the Caribbean: At World's End                       48350   \n",
       "2                                   Spectre                       11700   \n",
       "3                     The Dark Knight Rises                      106759   \n",
       "5                               John Carter                        1873   \n",
       "\n",
       "           actor_3_name country content_rating       budget  title_year  \\\n",
       "0             Wes Studi     USA          PG-13  237000000.0      2009.0   \n",
       "1        Jack Davenport     USA          PG-13  300000000.0      2007.0   \n",
       "2      Stephanie Sigman      UK          PG-13  245000000.0      2015.0   \n",
       "3  Joseph Gordon-Levitt     USA          PG-13  250000000.0      2012.0   \n",
       "5          Polly Walker     USA          PG-13  263700000.0      2012.0   \n",
       "\n",
       "   imdb_score  movie_facebook_likes  \n",
       "0         7.9                 33000  \n",
       "1         7.1                     0  \n",
       "2         6.8                 85000  \n",
       "3         8.5                164000  \n",
       "5         6.6                 24000  "
      ]
     },
     "execution_count": 101,
     "metadata": {},
     "output_type": "execute_result"
    }
   ],
   "source": [
    "dado = df.drop(labels=None, axis=0, index=None, columns='movie_imdb_link', level=None, inplace=False, errors='raise')\n",
    "dado2 = dado.drop(labels=None, axis=0, index=None, columns='aspect_ratio', level=None, inplace=False, errors='raise')\n",
    "dado3 = dado2.drop(labels=None, axis=0, index=None, columns='language', level=None, inplace=False, errors='raise')\n",
    "dado4 = dado3.drop(labels=None, axis=0, index=None, columns='facenumber_in_poster', level=None, inplace=False, errors='raise')\n",
    "dado5 = dado4.drop(labels=None, axis=0, index=None, columns='plot_keywords', level=None, inplace=False, errors='raise')\n",
    "dado6 = dado5.drop(labels=None, axis=0, index=None, columns='num_voted_users', level=None, inplace=False, errors='raise')\n",
    "dado7 = dado6.drop(labels=None, axis=0, index=None, columns='num_critic_for_reviews', level=None, inplace=False, errors='raise')\n",
    "dado8 = dado7.drop(labels=None, axis=0, index=None, columns='num_user_for_reviews', level=None, inplace=False, errors='raise')\n",
    "dado9 = dado8.drop(labels=None, axis=0, index=None, columns='director_facebook_likes', level=None, inplace=False, errors='raise')\n",
    "dado10 = dado9.drop(labels=None, axis=0, index=None, columns='actor_3_facebook_likes', level=None, inplace=False, errors='raise')\n",
    "dado11 = dado10.drop(labels=None, axis=0, index=None, columns='actor_1_facebook_likes', level=None, inplace=False, errors='raise')\n",
    "dado12 = dado11.drop(labels=None, axis=0, index=None, columns='actor_2_facebook_likes', level=None, inplace=False, errors='raise')\n",
    "data = dado12.dropna(axis = 0, how = \"any\", thresh = None, subset = None, inplace = False)\n",
    "dados = dado12.dropna(axis = 0, how = \"any\", thresh = None, subset = None, inplace = False)\n",
    "data.head()"
   ]
  },
  {
   "cell_type": "markdown",
   "metadata": {},
   "source": [
    "## Print das colunas"
   ]
  },
  {
   "cell_type": "code",
   "execution_count": 102,
   "metadata": {},
   "outputs": [
    {
     "name": "stdout",
     "output_type": "stream",
     "text": [
      "16\n"
     ]
    },
    {
     "data": {
      "text/plain": [
       "['color',\n",
       " 'director_name',\n",
       " 'duration',\n",
       " 'actor_2_name',\n",
       " 'gross',\n",
       " 'genres',\n",
       " 'actor_1_name',\n",
       " 'movie_title',\n",
       " 'cast_total_facebook_likes',\n",
       " 'actor_3_name',\n",
       " 'country',\n",
       " 'content_rating',\n",
       " 'budget',\n",
       " 'title_year',\n",
       " 'imdb_score',\n",
       " 'movie_facebook_likes']"
      ]
     },
     "execution_count": 102,
     "metadata": {},
     "output_type": "execute_result"
    }
   ],
   "source": [
    "colunas = list(data)\n",
    "print(len(colunas))\n",
    "colunas"
   ]
  },
  {
   "cell_type": "markdown",
   "metadata": {},
   "source": [
    "## Fazendo a correlação"
   ]
  },
  {
   "cell_type": "code",
   "execution_count": 103,
   "metadata": {
    "scrolled": true
   },
   "outputs": [
    {
     "data": {
      "text/html": [
       "<div>\n",
       "<style scoped>\n",
       "    .dataframe tbody tr th:only-of-type {\n",
       "        vertical-align: middle;\n",
       "    }\n",
       "\n",
       "    .dataframe tbody tr th {\n",
       "        vertical-align: top;\n",
       "    }\n",
       "\n",
       "    .dataframe thead th {\n",
       "        text-align: right;\n",
       "    }\n",
       "</style>\n",
       "<table border=\"1\" class=\"dataframe\">\n",
       "  <thead>\n",
       "    <tr style=\"text-align: right;\">\n",
       "      <th></th>\n",
       "      <th>duration</th>\n",
       "      <th>gross</th>\n",
       "      <th>cast_total_facebook_likes</th>\n",
       "      <th>budget</th>\n",
       "      <th>title_year</th>\n",
       "      <th>imdb_score</th>\n",
       "      <th>movie_facebook_likes</th>\n",
       "    </tr>\n",
       "  </thead>\n",
       "  <tbody>\n",
       "    <tr>\n",
       "      <th>duration</th>\n",
       "      <td>1.000000</td>\n",
       "      <td>0.252930</td>\n",
       "      <td>0.123148</td>\n",
       "      <td>0.070070</td>\n",
       "      <td>-0.130492</td>\n",
       "      <td>0.366264</td>\n",
       "      <td>0.221966</td>\n",
       "    </tr>\n",
       "    <tr>\n",
       "      <th>gross</th>\n",
       "      <td>0.252930</td>\n",
       "      <td>1.000000</td>\n",
       "      <td>0.237917</td>\n",
       "      <td>0.101757</td>\n",
       "      <td>0.049290</td>\n",
       "      <td>0.216346</td>\n",
       "      <td>0.373275</td>\n",
       "    </tr>\n",
       "    <tr>\n",
       "      <th>cast_total_facebook_likes</th>\n",
       "      <td>0.123148</td>\n",
       "      <td>0.237917</td>\n",
       "      <td>1.000000</td>\n",
       "      <td>0.029852</td>\n",
       "      <td>0.122454</td>\n",
       "      <td>0.107451</td>\n",
       "      <td>0.205164</td>\n",
       "    </tr>\n",
       "    <tr>\n",
       "      <th>budget</th>\n",
       "      <td>0.070070</td>\n",
       "      <td>0.101757</td>\n",
       "      <td>0.029852</td>\n",
       "      <td>1.000000</td>\n",
       "      <td>0.045332</td>\n",
       "      <td>0.030136</td>\n",
       "      <td>0.054351</td>\n",
       "    </tr>\n",
       "    <tr>\n",
       "      <th>title_year</th>\n",
       "      <td>-0.130492</td>\n",
       "      <td>0.049290</td>\n",
       "      <td>0.122454</td>\n",
       "      <td>0.045332</td>\n",
       "      <td>1.000000</td>\n",
       "      <td>-0.135839</td>\n",
       "      <td>0.301236</td>\n",
       "    </tr>\n",
       "    <tr>\n",
       "      <th>imdb_score</th>\n",
       "      <td>0.366264</td>\n",
       "      <td>0.216346</td>\n",
       "      <td>0.107451</td>\n",
       "      <td>0.030136</td>\n",
       "      <td>-0.135839</td>\n",
       "      <td>1.000000</td>\n",
       "      <td>0.280577</td>\n",
       "    </tr>\n",
       "    <tr>\n",
       "      <th>movie_facebook_likes</th>\n",
       "      <td>0.221966</td>\n",
       "      <td>0.373275</td>\n",
       "      <td>0.205164</td>\n",
       "      <td>0.054351</td>\n",
       "      <td>0.301236</td>\n",
       "      <td>0.280577</td>\n",
       "      <td>1.000000</td>\n",
       "    </tr>\n",
       "  </tbody>\n",
       "</table>\n",
       "</div>"
      ],
      "text/plain": [
       "                           duration     gross  cast_total_facebook_likes  \\\n",
       "duration                   1.000000  0.252930                   0.123148   \n",
       "gross                      0.252930  1.000000                   0.237917   \n",
       "cast_total_facebook_likes  0.123148  0.237917                   1.000000   \n",
       "budget                     0.070070  0.101757                   0.029852   \n",
       "title_year                -0.130492  0.049290                   0.122454   \n",
       "imdb_score                 0.366264  0.216346                   0.107451   \n",
       "movie_facebook_likes       0.221966  0.373275                   0.205164   \n",
       "\n",
       "                             budget  title_year  imdb_score  \\\n",
       "duration                   0.070070   -0.130492    0.366264   \n",
       "gross                      0.101757    0.049290    0.216346   \n",
       "cast_total_facebook_likes  0.029852    0.122454    0.107451   \n",
       "budget                     1.000000    0.045332    0.030136   \n",
       "title_year                 0.045332    1.000000   -0.135839   \n",
       "imdb_score                 0.030136   -0.135839    1.000000   \n",
       "movie_facebook_likes       0.054351    0.301236    0.280577   \n",
       "\n",
       "                           movie_facebook_likes  \n",
       "duration                               0.221966  \n",
       "gross                                  0.373275  \n",
       "cast_total_facebook_likes              0.205164  \n",
       "budget                                 0.054351  \n",
       "title_year                             0.301236  \n",
       "imdb_score                             0.280577  \n",
       "movie_facebook_likes                   1.000000  "
      ]
     },
     "execution_count": 103,
     "metadata": {},
     "output_type": "execute_result"
    }
   ],
   "source": [
    "data.corr()"
   ]
  },
  {
   "cell_type": "code",
   "execution_count": 104,
   "metadata": {
    "scrolled": false
   },
   "outputs": [
    {
     "data": {
      "image/png": "[encoded data removed]",
      "text/plain": [
       "<matplotlib.figure.Figure at 0x1a17081048>"
      ]
     },
     "metadata": {},
     "output_type": "display_data"
    }
   ],
   "source": [
    "plt.figure(figsize=(16, 8))\n",
    "sb.heatmap(data.corr(), linewidth=2);"
   ]
  },
  {
   "cell_type": "code",
   "execution_count": 105,
   "metadata": {
    "scrolled": false
   },
   "outputs": [
    {
     "data": {
      "text/html": [
       "<div>\n",
       "<style scoped>\n",
       "    .dataframe tbody tr th:only-of-type {\n",
       "        vertical-align: middle;\n",
       "    }\n",
       "\n",
       "    .dataframe tbody tr th {\n",
       "        vertical-align: top;\n",
       "    }\n",
       "\n",
       "    .dataframe thead th {\n",
       "        text-align: right;\n",
       "    }\n",
       "</style>\n",
       "<table border=\"1\" class=\"dataframe\">\n",
       "  <thead>\n",
       "    <tr style=\"text-align: right;\">\n",
       "      <th></th>\n",
       "      <th>duration</th>\n",
       "      <th>gross</th>\n",
       "      <th>cast_total_facebook_likes</th>\n",
       "      <th>budget</th>\n",
       "      <th>title_year</th>\n",
       "      <th>imdb_score</th>\n",
       "      <th>movie_facebook_likes</th>\n",
       "    </tr>\n",
       "  </thead>\n",
       "  <tbody>\n",
       "    <tr>\n",
       "      <th>0</th>\n",
       "      <td>178.0</td>\n",
       "      <td>760505847.0</td>\n",
       "      <td>4834</td>\n",
       "      <td>237000000.0</td>\n",
       "      <td>2009.0</td>\n",
       "      <td>7.9</td>\n",
       "      <td>33000</td>\n",
       "    </tr>\n",
       "    <tr>\n",
       "      <th>1</th>\n",
       "      <td>169.0</td>\n",
       "      <td>309404152.0</td>\n",
       "      <td>48350</td>\n",
       "      <td>300000000.0</td>\n",
       "      <td>2007.0</td>\n",
       "      <td>7.1</td>\n",
       "      <td>0</td>\n",
       "    </tr>\n",
       "    <tr>\n",
       "      <th>2</th>\n",
       "      <td>148.0</td>\n",
       "      <td>200074175.0</td>\n",
       "      <td>11700</td>\n",
       "      <td>245000000.0</td>\n",
       "      <td>2015.0</td>\n",
       "      <td>6.8</td>\n",
       "      <td>85000</td>\n",
       "    </tr>\n",
       "    <tr>\n",
       "      <th>3</th>\n",
       "      <td>164.0</td>\n",
       "      <td>448130642.0</td>\n",
       "      <td>106759</td>\n",
       "      <td>250000000.0</td>\n",
       "      <td>2012.0</td>\n",
       "      <td>8.5</td>\n",
       "      <td>164000</td>\n",
       "    </tr>\n",
       "    <tr>\n",
       "      <th>5</th>\n",
       "      <td>132.0</td>\n",
       "      <td>73058679.0</td>\n",
       "      <td>1873</td>\n",
       "      <td>263700000.0</td>\n",
       "      <td>2012.0</td>\n",
       "      <td>6.6</td>\n",
       "      <td>24000</td>\n",
       "    </tr>\n",
       "  </tbody>\n",
       "</table>\n",
       "</div>"
      ],
      "text/plain": [
       "   duration        gross  cast_total_facebook_likes       budget  title_year  \\\n",
       "0     178.0  760505847.0                       4834  237000000.0      2009.0   \n",
       "1     169.0  309404152.0                      48350  300000000.0      2007.0   \n",
       "2     148.0  200074175.0                      11700  245000000.0      2015.0   \n",
       "3     164.0  448130642.0                     106759  250000000.0      2012.0   \n",
       "5     132.0   73058679.0                       1873  263700000.0      2012.0   \n",
       "\n",
       "   imdb_score  movie_facebook_likes  \n",
       "0         7.9                 33000  \n",
       "1         7.1                     0  \n",
       "2         6.8                 85000  \n",
       "3         8.5                164000  \n",
       "5         6.6                 24000  "
      ]
     },
     "execution_count": 105,
     "metadata": {},
     "output_type": "execute_result"
    }
   ],
   "source": [
    "data2 = data[['duration', 'gross', 'cast_total_facebook_likes', 'budget', 'title_year', 'imdb_score', 'movie_facebook_likes']]\n",
    "data2.head()"
   ]
  },
  {
   "cell_type": "code",
   "execution_count": 106,
   "metadata": {
    "scrolled": false
   },
   "outputs": [],
   "source": [
    "#sb.set(style=\"ticks\")\n",
    "#sb.pairplot(data2, hue='title_year');"
   ]
  },
  {
   "cell_type": "code",
   "execution_count": 107,
   "metadata": {},
   "outputs": [
    {
     "data": {
      "text/plain": [
       "count    3832.000000\n",
       "mean     2003.081942\n",
       "std         9.883876\n",
       "min      1927.000000\n",
       "25%      1999.000000\n",
       "50%      2005.000000\n",
       "75%      2010.000000\n",
       "max      2016.000000\n",
       "Name: title_year, dtype: float64"
      ]
     },
     "execution_count": 107,
     "metadata": {},
     "output_type": "execute_result"
    },
    {
     "data": {
      "image/png": "[encoded data removed]",
      "text/plain": [
       "<matplotlib.figure.Figure at 0x1a17376c50>"
      ]
     },
     "metadata": {},
     "output_type": "display_data"
    }
   ],
   "source": [
    "data.loc[:,\"title_year\"].plot.box()\n",
    "data['title_year'].describe()"
   ]
  },
  {
   "cell_type": "code",
   "execution_count": 108,
   "metadata": {},
   "outputs": [
    {
     "data": {
      "text/plain": [
       "count    3832.000000\n",
       "mean        6.459055\n",
       "std         1.057430\n",
       "min         1.600000\n",
       "25%         5.900000\n",
       "50%         6.600000\n",
       "75%         7.200000\n",
       "max         9.300000\n",
       "Name: imdb_score, dtype: float64"
      ]
     },
     "execution_count": 108,
     "metadata": {},
     "output_type": "execute_result"
    },
    {
     "data": {
      "image/png": "[encoded data removed]",
      "text/plain": [
       "<matplotlib.figure.Figure at 0x1a0d336828>"
      ]
     },
     "metadata": {},
     "output_type": "display_data"
    }
   ],
   "source": [
    "data.loc[:,\"imdb_score\"].plot.box()\n",
    "data['imdb_score'].describe()"
   ]
  },
  {
   "cell_type": "code",
   "execution_count": 143,
   "metadata": {},
   "outputs": [
    {
     "data": {
      "text/plain": [
       "count      3832.000000\n",
       "mean      11388.745303\n",
       "std       19011.050401\n",
       "min           0.000000\n",
       "25%        1875.500000\n",
       "50%        3962.000000\n",
       "75%       16122.000000\n",
       "max      656730.000000\n",
       "Name: cast_total_facebook_likes, dtype: float64"
      ]
     },
     "execution_count": 143,
     "metadata": {},
     "output_type": "execute_result"
    },
    {
     "data": {
      "image/png": "[encoded data removed]",
      "text/plain": [
       "<matplotlib.figure.Figure at 0x1a16f448d0>"
      ]
     },
     "metadata": {},
     "output_type": "display_data"
    }
   ],
   "source": [
    "data.loc[:,\"cast_total_facebook_likes\"].plot.box()\n",
    "data['cast_total_facebook_likes'].describe()"
   ]
  },
  {
   "cell_type": "code",
   "execution_count": 144,
   "metadata": {},
   "outputs": [
    {
     "data": {
      "text/plain": [
       "count      3832.000000\n",
       "mean       9259.969729\n",
       "std       21437.790209\n",
       "min           0.000000\n",
       "25%           0.000000\n",
       "50%         224.500000\n",
       "75%       11000.000000\n",
       "max      349000.000000\n",
       "Name: movie_facebook_likes, dtype: float64"
      ]
     },
     "execution_count": 144,
     "metadata": {},
     "output_type": "execute_result"
    },
    {
     "data": {
      "image/png": "[encoded data removed]",
      "text/plain": [
       "<matplotlib.figure.Figure at 0x1a1eb088d0>"
      ]
     },
     "metadata": {},
     "output_type": "display_data"
    }
   ],
   "source": [
    "data.loc[:,\"movie_facebook_likes\"].plot.box()\n",
    "data['movie_facebook_likes'].describe()"
   ]
  },
  {
   "cell_type": "markdown",
   "metadata": {},
   "source": [
    "Para realizar a análise dos dados, calculamos a sua correlação e assim entender quais dados possuiam mais relevância para escolhermos como classificador. (NAO SEI SE PODE FALAR ISSO).Também plotamos uma matriz de todos os dados numéricos para uma melhor visualização. Após plotar a matriz, escolhemos dados que possuiam as maiores correlações ou dados de maior relevância e os análisamos separadamente."
   ]
  },
  {
   "cell_type": "markdown",
   "metadata": {},
   "source": [
    "## Alterando os dados escritos por numéricos"
   ]
  },
  {
   "cell_type": "code",
   "execution_count": 109,
   "metadata": {},
   "outputs": [],
   "source": [
    "def numerar(dataframe, coluna):\n",
    "    # Criando a lista de nomes únicos:\n",
    "    unico = []\n",
    "    for classe in dataframe[coluna]:\n",
    "        if classe not in unico:\n",
    "            unico.append(classe)\n",
    "            \n",
    "    # Criando a lista de nomes alterados para números:\n",
    "    reclassificado = []        \n",
    "    for item in dataframe[coluna]:\n",
    "        reclassificado.append(unico.index(item))\n",
    "    \n",
    "    # Substituindo a coluna toda do DataFrame:\n",
    "    dataframe[coluna] = reclassificado\n",
    "    \n",
    "    # Retornando o novo DataFrame:\n",
    "    return dataframe"
   ]
  },
  {
   "cell_type": "code",
   "execution_count": 110,
   "metadata": {},
   "outputs": [
    {
     "name": "stderr",
     "output_type": "stream",
     "text": [
      "/Users/gabrielacaruso/anaconda3/lib/python3.6/site-packages/ipykernel_launcher.py:14: SettingWithCopyWarning: \n",
      "A value is trying to be set on a copy of a slice from a DataFrame.\n",
      "Try using .loc[row_indexer,col_indexer] = value instead\n",
      "\n",
      "See the caveats in the documentation: http://pandas.pydata.org/pandas-docs/stable/indexing.html#indexing-view-versus-copy\n",
      "  \n"
     ]
    },
    {
     "data": {
      "text/html": [
       "<div>\n",
       "<style scoped>\n",
       "    .dataframe tbody tr th:only-of-type {\n",
       "        vertical-align: middle;\n",
       "    }\n",
       "\n",
       "    .dataframe tbody tr th {\n",
       "        vertical-align: top;\n",
       "    }\n",
       "\n",
       "    .dataframe thead th {\n",
       "        text-align: right;\n",
       "    }\n",
       "</style>\n",
       "<table border=\"1\" class=\"dataframe\">\n",
       "  <thead>\n",
       "    <tr style=\"text-align: right;\">\n",
       "      <th></th>\n",
       "      <th>color</th>\n",
       "      <th>director_name</th>\n",
       "      <th>duration</th>\n",
       "      <th>actor_2_name</th>\n",
       "      <th>gross</th>\n",
       "      <th>genres</th>\n",
       "      <th>actor_1_name</th>\n",
       "      <th>movie_title</th>\n",
       "      <th>cast_total_facebook_likes</th>\n",
       "      <th>actor_3_name</th>\n",
       "      <th>country</th>\n",
       "      <th>content_rating</th>\n",
       "      <th>budget</th>\n",
       "      <th>title_year</th>\n",
       "      <th>imdb_score</th>\n",
       "      <th>movie_facebook_likes</th>\n",
       "    </tr>\n",
       "  </thead>\n",
       "  <tbody>\n",
       "    <tr>\n",
       "      <th>0</th>\n",
       "      <td>0</td>\n",
       "      <td>0</td>\n",
       "      <td>178.0</td>\n",
       "      <td>0</td>\n",
       "      <td>760505847.0</td>\n",
       "      <td>0</td>\n",
       "      <td>0</td>\n",
       "      <td>0</td>\n",
       "      <td>4834</td>\n",
       "      <td>0</td>\n",
       "      <td>0</td>\n",
       "      <td>0</td>\n",
       "      <td>237000000.0</td>\n",
       "      <td>2009.0</td>\n",
       "      <td>7.9</td>\n",
       "      <td>33000</td>\n",
       "    </tr>\n",
       "    <tr>\n",
       "      <th>1</th>\n",
       "      <td>0</td>\n",
       "      <td>1</td>\n",
       "      <td>169.0</td>\n",
       "      <td>1</td>\n",
       "      <td>309404152.0</td>\n",
       "      <td>1</td>\n",
       "      <td>1</td>\n",
       "      <td>1</td>\n",
       "      <td>48350</td>\n",
       "      <td>1</td>\n",
       "      <td>0</td>\n",
       "      <td>0</td>\n",
       "      <td>300000000.0</td>\n",
       "      <td>2007.0</td>\n",
       "      <td>7.1</td>\n",
       "      <td>0</td>\n",
       "    </tr>\n",
       "    <tr>\n",
       "      <th>2</th>\n",
       "      <td>0</td>\n",
       "      <td>2</td>\n",
       "      <td>148.0</td>\n",
       "      <td>2</td>\n",
       "      <td>200074175.0</td>\n",
       "      <td>2</td>\n",
       "      <td>2</td>\n",
       "      <td>2</td>\n",
       "      <td>11700</td>\n",
       "      <td>2</td>\n",
       "      <td>1</td>\n",
       "      <td>0</td>\n",
       "      <td>245000000.0</td>\n",
       "      <td>2015.0</td>\n",
       "      <td>6.8</td>\n",
       "      <td>85000</td>\n",
       "    </tr>\n",
       "    <tr>\n",
       "      <th>3</th>\n",
       "      <td>0</td>\n",
       "      <td>3</td>\n",
       "      <td>164.0</td>\n",
       "      <td>3</td>\n",
       "      <td>448130642.0</td>\n",
       "      <td>3</td>\n",
       "      <td>3</td>\n",
       "      <td>3</td>\n",
       "      <td>106759</td>\n",
       "      <td>3</td>\n",
       "      <td>0</td>\n",
       "      <td>0</td>\n",
       "      <td>250000000.0</td>\n",
       "      <td>2012.0</td>\n",
       "      <td>8.5</td>\n",
       "      <td>164000</td>\n",
       "    </tr>\n",
       "    <tr>\n",
       "      <th>5</th>\n",
       "      <td>0</td>\n",
       "      <td>4</td>\n",
       "      <td>132.0</td>\n",
       "      <td>4</td>\n",
       "      <td>73058679.0</td>\n",
       "      <td>4</td>\n",
       "      <td>4</td>\n",
       "      <td>4</td>\n",
       "      <td>1873</td>\n",
       "      <td>4</td>\n",
       "      <td>0</td>\n",
       "      <td>0</td>\n",
       "      <td>263700000.0</td>\n",
       "      <td>2012.0</td>\n",
       "      <td>6.6</td>\n",
       "      <td>24000</td>\n",
       "    </tr>\n",
       "  </tbody>\n",
       "</table>\n",
       "</div>"
      ],
      "text/plain": [
       "   color  director_name  duration  actor_2_name        gross  genres  \\\n",
       "0      0              0     178.0             0  760505847.0       0   \n",
       "1      0              1     169.0             1  309404152.0       1   \n",
       "2      0              2     148.0             2  200074175.0       2   \n",
       "3      0              3     164.0             3  448130642.0       3   \n",
       "5      0              4     132.0             4   73058679.0       4   \n",
       "\n",
       "   actor_1_name  movie_title  cast_total_facebook_likes  actor_3_name  \\\n",
       "0             0            0                       4834             0   \n",
       "1             1            1                      48350             1   \n",
       "2             2            2                      11700             2   \n",
       "3             3            3                     106759             3   \n",
       "5             4            4                       1873             4   \n",
       "\n",
       "   country  content_rating       budget  title_year  imdb_score  \\\n",
       "0        0               0  237000000.0      2009.0         7.9   \n",
       "1        0               0  300000000.0      2007.0         7.1   \n",
       "2        1               0  245000000.0      2015.0         6.8   \n",
       "3        0               0  250000000.0      2012.0         8.5   \n",
       "5        0               0  263700000.0      2012.0         6.6   \n",
       "\n",
       "   movie_facebook_likes  \n",
       "0                 33000  \n",
       "1                     0  \n",
       "2                 85000  \n",
       "3                164000  \n",
       "5                 24000  "
      ]
     },
     "execution_count": 110,
     "metadata": {},
     "output_type": "execute_result"
    }
   ],
   "source": [
    "numerar(data, \"color\")\n",
    "numerar(data, \"actor_2_name\")\n",
    "numerar(data, \"director_name\")\n",
    "numerar(data, \"actor_1_name\")\n",
    "numerar(data, \"movie_title\")\n",
    "numerar(data, \"genres\")\n",
    "numerar(data, \"actor_3_name\")\n",
    "numerar(data, \"country\")\n",
    "numerar(data, \"content_rating\")\n",
    "data.head()"
   ]
  },
  {
   "cell_type": "markdown",
   "metadata": {},
   "source": [
    "## Separando variáveis para o Clustering ##"
   ]
  },
  {
   "cell_type": "code",
   "execution_count": 111,
   "metadata": {},
   "outputs": [
    {
     "data": {
      "text/plain": [
       "['color',\n",
       " 'director_name',\n",
       " 'duration',\n",
       " 'actor_2_name',\n",
       " 'gross',\n",
       " 'genres',\n",
       " 'actor_1_name',\n",
       " 'movie_title',\n",
       " 'cast_total_facebook_likes',\n",
       " 'actor_3_name',\n",
       " 'country',\n",
       " 'content_rating',\n",
       " 'budget',\n",
       " 'title_year',\n",
       " 'imdb_score',\n",
       " 'movie_facebook_likes']"
      ]
     },
     "execution_count": 111,
     "metadata": {},
     "output_type": "execute_result"
    }
   ],
   "source": [
    "colunas"
   ]
  },
  {
   "cell_type": "code",
   "execution_count": 112,
   "metadata": {},
   "outputs": [
    {
     "name": "stderr",
     "output_type": "stream",
     "text": [
      "/Users/gabrielacaruso/anaconda3/lib/python3.6/site-packages/ipykernel_launcher.py:1: DeprecationWarning: \n",
      ".ix is deprecated. Please use\n",
      ".loc for label based indexing or\n",
      ".iloc for positional indexing\n",
      "\n",
      "See the documentation here:\n",
      "http://pandas.pydata.org/pandas-docs/stable/indexing.html#ix-indexer-is-deprecated\n",
      "  \"\"\"Entry point for launching an IPython kernel.\n"
     ]
    }
   ],
   "source": [
    "X = data.ix[:, (1,3,5,6,9,13,14)].values\n",
    "Y = data.ix[:, (0)].values"
   ]
  },
  {
   "cell_type": "markdown",
   "metadata": {},
   "source": [
    "## Clustering ##"
   ]
  },
  {
   "cell_type": "code",
   "execution_count": 113,
   "metadata": {},
   "outputs": [
    {
     "data": {
      "text/plain": [
       "0.06889352818371608"
      ]
     },
     "execution_count": 113,
     "metadata": {},
     "output_type": "execute_result"
    }
   ],
   "source": [
    "k = 20\n",
    "\n",
    "Hclustering = AgglomerativeClustering(n_clusters=k, affinity=\"euclidean\", linkage=\"ward\")\n",
    "\n",
    "Hclustering.fit(X)\n",
    "\n",
    "sm.accuracy_score(Y, Hclustering.labels_)"
   ]
  },
  {
   "cell_type": "code",
   "execution_count": 114,
   "metadata": {},
   "outputs": [
    {
     "data": {
      "text/plain": [
       "0.10438413361169102"
      ]
     },
     "execution_count": 114,
     "metadata": {},
     "output_type": "execute_result"
    }
   ],
   "source": [
    "k = 20\n",
    "\n",
    "Hclustering = AgglomerativeClustering(n_clusters=k, affinity=\"euclidean\", linkage=\"complete\")\n",
    "\n",
    "Hclustering.fit(X)\n",
    "\n",
    "sm.accuracy_score(Y, Hclustering.labels_)"
   ]
  },
  {
   "cell_type": "code",
   "execution_count": 115,
   "metadata": {},
   "outputs": [
    {
     "data": {
      "text/plain": [
       "0.19963465553235907"
      ]
     },
     "execution_count": 115,
     "metadata": {},
     "output_type": "execute_result"
    }
   ],
   "source": [
    "k = 20\n",
    "\n",
    "Hclustering = AgglomerativeClustering(n_clusters=k, affinity=\"euclidean\", linkage=\"average\")\n",
    "\n",
    "Hclustering.fit(X)\n",
    "\n",
    "sm.accuracy_score(Y, Hclustering.labels_)"
   ]
  },
  {
   "cell_type": "code",
   "execution_count": 116,
   "metadata": {},
   "outputs": [
    {
     "data": {
      "text/plain": [
       "0.054279749478079335"
      ]
     },
     "execution_count": 116,
     "metadata": {},
     "output_type": "execute_result"
    }
   ],
   "source": [
    "k = 20\n",
    "\n",
    "Hclustering = AgglomerativeClustering(n_clusters=k, affinity=\"manhattan\", linkage=\"complete\")\n",
    "\n",
    "Hclustering.fit(X)\n",
    "\n",
    "sm.accuracy_score(Y, Hclustering.labels_)"
   ]
  },
  {
   "cell_type": "code",
   "execution_count": 117,
   "metadata": {},
   "outputs": [
    {
     "data": {
      "text/plain": [
       "0.11064718162839249"
      ]
     },
     "execution_count": 117,
     "metadata": {},
     "output_type": "execute_result"
    }
   ],
   "source": [
    "k = 20\n",
    "\n",
    "Hclustering = AgglomerativeClustering(n_clusters=k, affinity=\"manhattan\", linkage=\"average\")\n",
    "\n",
    "Hclustering.fit(X)\n",
    "\n",
    "sm.accuracy_score(Y, Hclustering.labels_)"
   ]
  },
  {
   "cell_type": "code",
   "execution_count": 118,
   "metadata": {},
   "outputs": [
    {
     "data": {
      "text/plain": [
       "0.05610647181628393"
      ]
     },
     "execution_count": 118,
     "metadata": {},
     "output_type": "execute_result"
    }
   ],
   "source": [
    "k = 20\n",
    "\n",
    "Hclustering = AgglomerativeClustering(n_clusters=k, affinity=\"cosine\", linkage=\"complete\")\n",
    "\n",
    "Hclustering.fit(X)\n",
    "\n",
    "sm.accuracy_score(Y, Hclustering.labels_)"
   ]
  },
  {
   "cell_type": "code",
   "execution_count": 119,
   "metadata": {},
   "outputs": [
    {
     "data": {
      "text/plain": [
       "0.042275574112734866"
      ]
     },
     "execution_count": 119,
     "metadata": {},
     "output_type": "execute_result"
    }
   ],
   "source": [
    "k = 20\n",
    "\n",
    "Hclustering = AgglomerativeClustering(n_clusters=k, affinity=\"cosine\", linkage=\"average\")\n",
    "\n",
    "Hclustering.fit(X)\n",
    "\n",
    "sm.accuracy_score(Y, Hclustering.labels_)"
   ]
  },
  {
   "cell_type": "markdown",
   "metadata": {},
   "source": [
    "## Implementando melhor afinidade e _linkage_ ##"
   ]
  },
  {
   "cell_type": "code",
   "execution_count": 120,
   "metadata": {
    "scrolled": true
   },
   "outputs": [
    {
     "data": {
      "text/plain": [
       "10    1273\n",
       "0      785\n",
       "2      316\n",
       "7      311\n",
       "15     305\n",
       "9      199\n",
       "14     121\n",
       "6       87\n",
       "5       78\n",
       "17      57\n",
       "8       56\n",
       "1       53\n",
       "11      47\n",
       "13      34\n",
       "12      28\n",
       "16      24\n",
       "3       19\n",
       "19      18\n",
       "4       18\n",
       "18       3\n",
       "dtype: int64"
      ]
     },
     "execution_count": 120,
     "metadata": {},
     "output_type": "execute_result"
    }
   ],
   "source": [
    "k = 20\n",
    "\n",
    "Hclustering = AgglomerativeClustering(n_clusters=k, affinity=\"euclidean\", linkage=\"average\")\n",
    "\n",
    "Hclustering.fit(X)\n",
    "\n",
    "c = Hclustering.labels_\n",
    "\n",
    "pd.Series(Hclustering.labels_).value_counts()"
   ]
  },
  {
   "cell_type": "markdown",
   "metadata": {},
   "source": [
    "### Exemplo de um cluster - grupo 18 ###"
   ]
  },
  {
   "cell_type": "code",
   "execution_count": 126,
   "metadata": {},
   "outputs": [
    {
     "data": {
      "text/html": [
       "<div>\n",
       "<style scoped>\n",
       "    .dataframe tbody tr th:only-of-type {\n",
       "        vertical-align: middle;\n",
       "    }\n",
       "\n",
       "    .dataframe tbody tr th {\n",
       "        vertical-align: top;\n",
       "    }\n",
       "\n",
       "    .dataframe thead th {\n",
       "        text-align: right;\n",
       "    }\n",
       "</style>\n",
       "<table border=\"1\" class=\"dataframe\">\n",
       "  <thead>\n",
       "    <tr style=\"text-align: right;\">\n",
       "      <th></th>\n",
       "      <th>color</th>\n",
       "      <th>director_name</th>\n",
       "      <th>duration</th>\n",
       "      <th>actor_2_name</th>\n",
       "      <th>gross</th>\n",
       "      <th>genres</th>\n",
       "      <th>actor_1_name</th>\n",
       "      <th>movie_title</th>\n",
       "      <th>cast_total_facebook_likes</th>\n",
       "      <th>actor_3_name</th>\n",
       "      <th>country</th>\n",
       "      <th>content_rating</th>\n",
       "      <th>budget</th>\n",
       "      <th>title_year</th>\n",
       "      <th>imdb_score</th>\n",
       "      <th>movie_facebook_likes</th>\n",
       "      <th>cluster</th>\n",
       "    </tr>\n",
       "  </thead>\n",
       "  <tbody>\n",
       "    <tr>\n",
       "      <th>3935</th>\n",
       "      <td>0</td>\n",
       "      <td>1425</td>\n",
       "      <td>99.0</td>\n",
       "      <td>1909</td>\n",
       "      <td>562059.0</td>\n",
       "      <td>293</td>\n",
       "      <td>141</td>\n",
       "      <td>3267</td>\n",
       "      <td>3130</td>\n",
       "      <td>1322</td>\n",
       "      <td>0</td>\n",
       "      <td>3</td>\n",
       "      <td>4000000.0</td>\n",
       "      <td>2002.0</td>\n",
       "      <td>7.0</td>\n",
       "      <td>872</td>\n",
       "      <td>18</td>\n",
       "    </tr>\n",
       "    <tr>\n",
       "      <th>4435</th>\n",
       "      <td>0</td>\n",
       "      <td>1566</td>\n",
       "      <td>90.0</td>\n",
       "      <td>2069</td>\n",
       "      <td>52166.0</td>\n",
       "      <td>256</td>\n",
       "      <td>53</td>\n",
       "      <td>3497</td>\n",
       "      <td>89263</td>\n",
       "      <td>1311</td>\n",
       "      <td>0</td>\n",
       "      <td>3</td>\n",
       "      <td>2000000.0</td>\n",
       "      <td>2008.0</td>\n",
       "      <td>6.7</td>\n",
       "      <td>371</td>\n",
       "      <td>18</td>\n",
       "    </tr>\n",
       "    <tr>\n",
       "      <th>4979</th>\n",
       "      <td>0</td>\n",
       "      <td>1700</td>\n",
       "      <td>82.0</td>\n",
       "      <td>2225</td>\n",
       "      <td>30084.0</td>\n",
       "      <td>191</td>\n",
       "      <td>208</td>\n",
       "      <td>3712</td>\n",
       "      <td>11642</td>\n",
       "      <td>1575</td>\n",
       "      <td>0</td>\n",
       "      <td>3</td>\n",
       "      <td>70000.0</td>\n",
       "      <td>2014.0</td>\n",
       "      <td>5.6</td>\n",
       "      <td>812</td>\n",
       "      <td>18</td>\n",
       "    </tr>\n",
       "  </tbody>\n",
       "</table>\n",
       "</div>"
      ],
      "text/plain": [
       "      color  director_name  duration  actor_2_name     gross  genres  \\\n",
       "3935      0           1425      99.0          1909  562059.0     293   \n",
       "4435      0           1566      90.0          2069   52166.0     256   \n",
       "4979      0           1700      82.0          2225   30084.0     191   \n",
       "\n",
       "      actor_1_name  movie_title  cast_total_facebook_likes  actor_3_name  \\\n",
       "3935           141         3267                       3130          1322   \n",
       "4435            53         3497                      89263          1311   \n",
       "4979           208         3712                      11642          1575   \n",
       "\n",
       "      country  content_rating     budget  title_year  imdb_score  \\\n",
       "3935        0               3  4000000.0      2002.0         7.0   \n",
       "4435        0               3  2000000.0      2008.0         6.7   \n",
       "4979        0               3    70000.0      2014.0         5.6   \n",
       "\n",
       "      movie_facebook_likes  cluster  \n",
       "3935                   872       18  \n",
       "4435                   371       18  \n",
       "4979                   812       18  "
      ]
     },
     "execution_count": 126,
     "metadata": {},
     "output_type": "execute_result"
    }
   ],
   "source": [
    "data[c==18]"
   ]
  },
  {
   "cell_type": "markdown",
   "metadata": {},
   "source": [
    "## Dendograma ##"
   ]
  },
  {
   "cell_type": "code",
   "execution_count": 122,
   "metadata": {},
   "outputs": [
    {
     "data": {
      "image/png": "[encoded data removed]",
      "text/plain": [
       "<matplotlib.figure.Figure at 0x1a0d092c88>"
      ]
     },
     "metadata": {},
     "output_type": "display_data"
    }
   ],
   "source": [
    "Z = linkage(X, \"ward\")\n",
    "\n",
    "f = dendrogram(Z, truncate_mode=\"lastp\", p=20, leaf_rotation=45., leaf_font_size=10., show_contracted=True)\n",
    "plt.title(\"Hierarchical Clustering Dendrogram\")\n",
    "plt.xlabel(\"Cluster Size\")\n",
    "plt.ylabel(\"Distance\")\n",
    "\n",
    "plt.axhline(y=4000)\n",
    "\n",
    "plt.show()"
   ]
  },
  {
   "cell_type": "code",
   "execution_count": 125,
   "metadata": {},
   "outputs": [
    {
     "name": "stderr",
     "output_type": "stream",
     "text": [
      "/Users/gabrielacaruso/anaconda3/lib/python3.6/site-packages/ipykernel_launcher.py:1: SettingWithCopyWarning: \n",
      "A value is trying to be set on a copy of a slice from a DataFrame.\n",
      "Try using .loc[row_indexer,col_indexer] = value instead\n",
      "\n",
      "See the caveats in the documentation: http://pandas.pydata.org/pandas-docs/stable/indexing.html#indexing-view-versus-copy\n",
      "  \"\"\"Entry point for launching an IPython kernel.\n"
     ]
    },
    {
     "data": {
      "text/html": [
       "<div>\n",
       "<style scoped>\n",
       "    .dataframe tbody tr th:only-of-type {\n",
       "        vertical-align: middle;\n",
       "    }\n",
       "\n",
       "    .dataframe tbody tr th {\n",
       "        vertical-align: top;\n",
       "    }\n",
       "\n",
       "    .dataframe thead th {\n",
       "        text-align: right;\n",
       "    }\n",
       "</style>\n",
       "<table border=\"1\" class=\"dataframe\">\n",
       "  <thead>\n",
       "    <tr style=\"text-align: right;\">\n",
       "      <th></th>\n",
       "      <th>color</th>\n",
       "      <th>director_name</th>\n",
       "      <th>duration</th>\n",
       "      <th>actor_2_name</th>\n",
       "      <th>gross</th>\n",
       "      <th>genres</th>\n",
       "      <th>actor_1_name</th>\n",
       "      <th>movie_title</th>\n",
       "      <th>cast_total_facebook_likes</th>\n",
       "      <th>actor_3_name</th>\n",
       "      <th>country</th>\n",
       "      <th>content_rating</th>\n",
       "      <th>budget</th>\n",
       "      <th>title_year</th>\n",
       "      <th>imdb_score</th>\n",
       "      <th>movie_facebook_likes</th>\n",
       "      <th>cluster</th>\n",
       "    </tr>\n",
       "  </thead>\n",
       "  <tbody>\n",
       "    <tr>\n",
       "      <th>0</th>\n",
       "      <td>Color</td>\n",
       "      <td>James Cameron</td>\n",
       "      <td>178.0</td>\n",
       "      <td>Joel David Moore</td>\n",
       "      <td>760505847.0</td>\n",
       "      <td>Action|Adventure|Fantasy|Sci-Fi</td>\n",
       "      <td>CCH Pounder</td>\n",
       "      <td>Avatar</td>\n",
       "      <td>4834</td>\n",
       "      <td>Wes Studi</td>\n",
       "      <td>USA</td>\n",
       "      <td>PG-13</td>\n",
       "      <td>237000000.0</td>\n",
       "      <td>2009.0</td>\n",
       "      <td>7.9</td>\n",
       "      <td>33000</td>\n",
       "      <td>10</td>\n",
       "    </tr>\n",
       "    <tr>\n",
       "      <th>1</th>\n",
       "      <td>Color</td>\n",
       "      <td>Gore Verbinski</td>\n",
       "      <td>169.0</td>\n",
       "      <td>Orlando Bloom</td>\n",
       "      <td>309404152.0</td>\n",
       "      <td>Action|Adventure|Fantasy</td>\n",
       "      <td>Johnny Depp</td>\n",
       "      <td>Pirates of the Caribbean: At World's End</td>\n",
       "      <td>48350</td>\n",
       "      <td>Jack Davenport</td>\n",
       "      <td>USA</td>\n",
       "      <td>PG-13</td>\n",
       "      <td>300000000.0</td>\n",
       "      <td>2007.0</td>\n",
       "      <td>7.1</td>\n",
       "      <td>0</td>\n",
       "      <td>10</td>\n",
       "    </tr>\n",
       "    <tr>\n",
       "      <th>2</th>\n",
       "      <td>Color</td>\n",
       "      <td>Sam Mendes</td>\n",
       "      <td>148.0</td>\n",
       "      <td>Rory Kinnear</td>\n",
       "      <td>200074175.0</td>\n",
       "      <td>Action|Adventure|Thriller</td>\n",
       "      <td>Christoph Waltz</td>\n",
       "      <td>Spectre</td>\n",
       "      <td>11700</td>\n",
       "      <td>Stephanie Sigman</td>\n",
       "      <td>UK</td>\n",
       "      <td>PG-13</td>\n",
       "      <td>245000000.0</td>\n",
       "      <td>2015.0</td>\n",
       "      <td>6.8</td>\n",
       "      <td>85000</td>\n",
       "      <td>10</td>\n",
       "    </tr>\n",
       "    <tr>\n",
       "      <th>3</th>\n",
       "      <td>Color</td>\n",
       "      <td>Christopher Nolan</td>\n",
       "      <td>164.0</td>\n",
       "      <td>Christian Bale</td>\n",
       "      <td>448130642.0</td>\n",
       "      <td>Action|Thriller</td>\n",
       "      <td>Tom Hardy</td>\n",
       "      <td>The Dark Knight Rises</td>\n",
       "      <td>106759</td>\n",
       "      <td>Joseph Gordon-Levitt</td>\n",
       "      <td>USA</td>\n",
       "      <td>PG-13</td>\n",
       "      <td>250000000.0</td>\n",
       "      <td>2012.0</td>\n",
       "      <td>8.5</td>\n",
       "      <td>164000</td>\n",
       "      <td>10</td>\n",
       "    </tr>\n",
       "    <tr>\n",
       "      <th>5</th>\n",
       "      <td>Color</td>\n",
       "      <td>Andrew Stanton</td>\n",
       "      <td>132.0</td>\n",
       "      <td>Samantha Morton</td>\n",
       "      <td>73058679.0</td>\n",
       "      <td>Action|Adventure|Sci-Fi</td>\n",
       "      <td>Daryl Sabara</td>\n",
       "      <td>John Carter</td>\n",
       "      <td>1873</td>\n",
       "      <td>Polly Walker</td>\n",
       "      <td>USA</td>\n",
       "      <td>PG-13</td>\n",
       "      <td>263700000.0</td>\n",
       "      <td>2012.0</td>\n",
       "      <td>6.6</td>\n",
       "      <td>24000</td>\n",
       "      <td>10</td>\n",
       "    </tr>\n",
       "  </tbody>\n",
       "</table>\n",
       "</div>"
      ],
      "text/plain": [
       "   color      director_name  duration      actor_2_name        gross  \\\n",
       "0  Color      James Cameron     178.0  Joel David Moore  760505847.0   \n",
       "1  Color     Gore Verbinski     169.0     Orlando Bloom  309404152.0   \n",
       "2  Color         Sam Mendes     148.0      Rory Kinnear  200074175.0   \n",
       "3  Color  Christopher Nolan     164.0    Christian Bale  448130642.0   \n",
       "5  Color     Andrew Stanton     132.0   Samantha Morton   73058679.0   \n",
       "\n",
       "                            genres     actor_1_name  \\\n",
       "0  Action|Adventure|Fantasy|Sci-Fi      CCH Pounder   \n",
       "1         Action|Adventure|Fantasy      Johnny Depp   \n",
       "2        Action|Adventure|Thriller  Christoph Waltz   \n",
       "3                  Action|Thriller        Tom Hardy   \n",
       "5          Action|Adventure|Sci-Fi     Daryl Sabara   \n",
       "\n",
       "                                 movie_title  cast_total_facebook_likes  \\\n",
       "0                                    Avatar                        4834   \n",
       "1  Pirates of the Caribbean: At World's End                       48350   \n",
       "2                                   Spectre                       11700   \n",
       "3                     The Dark Knight Rises                      106759   \n",
       "5                               John Carter                        1873   \n",
       "\n",
       "           actor_3_name country content_rating       budget  title_year  \\\n",
       "0             Wes Studi     USA          PG-13  237000000.0      2009.0   \n",
       "1        Jack Davenport     USA          PG-13  300000000.0      2007.0   \n",
       "2      Stephanie Sigman      UK          PG-13  245000000.0      2015.0   \n",
       "3  Joseph Gordon-Levitt     USA          PG-13  250000000.0      2012.0   \n",
       "5          Polly Walker     USA          PG-13  263700000.0      2012.0   \n",
       "\n",
       "   imdb_score  movie_facebook_likes  cluster  \n",
       "0         7.9                 33000       10  \n",
       "1         7.1                     0       10  \n",
       "2         6.8                 85000       10  \n",
       "3         8.5                164000       10  \n",
       "5         6.6                 24000       10  "
      ]
     },
     "execution_count": 125,
     "metadata": {},
     "output_type": "execute_result"
    }
   ],
   "source": [
    "dados['cluster'] = c\n",
    "dados.head()"
   ]
  },
  {
   "cell_type": "markdown",
   "metadata": {},
   "source": [
    "## Verificando um dos dados ##"
   ]
  },
  {
   "cell_type": "code",
   "execution_count": 136,
   "metadata": {},
   "outputs": [
    {
     "data": {
      "text/html": [
       "<div>\n",
       "<style scoped>\n",
       "    .dataframe tbody tr th:only-of-type {\n",
       "        vertical-align: middle;\n",
       "    }\n",
       "\n",
       "    .dataframe tbody tr th {\n",
       "        vertical-align: top;\n",
       "    }\n",
       "\n",
       "    .dataframe thead th {\n",
       "        text-align: right;\n",
       "    }\n",
       "</style>\n",
       "<table border=\"1\" class=\"dataframe\">\n",
       "  <thead>\n",
       "    <tr style=\"text-align: right;\">\n",
       "      <th></th>\n",
       "      <th>color</th>\n",
       "      <th>director_name</th>\n",
       "      <th>duration</th>\n",
       "      <th>actor_2_name</th>\n",
       "      <th>gross</th>\n",
       "      <th>genres</th>\n",
       "      <th>actor_1_name</th>\n",
       "      <th>movie_title</th>\n",
       "      <th>cast_total_facebook_likes</th>\n",
       "      <th>actor_3_name</th>\n",
       "      <th>country</th>\n",
       "      <th>content_rating</th>\n",
       "      <th>budget</th>\n",
       "      <th>title_year</th>\n",
       "      <th>imdb_score</th>\n",
       "      <th>movie_facebook_likes</th>\n",
       "      <th>cluster</th>\n",
       "    </tr>\n",
       "  </thead>\n",
       "  <tbody>\n",
       "    <tr>\n",
       "      <th>0</th>\n",
       "      <td>Color</td>\n",
       "      <td>James Cameron</td>\n",
       "      <td>178.0</td>\n",
       "      <td>Joel David Moore</td>\n",
       "      <td>760505847.0</td>\n",
       "      <td>Action|Adventure|Fantasy|Sci-Fi</td>\n",
       "      <td>CCH Pounder</td>\n",
       "      <td>Avatar</td>\n",
       "      <td>4834</td>\n",
       "      <td>Wes Studi</td>\n",
       "      <td>USA</td>\n",
       "      <td>PG-13</td>\n",
       "      <td>237000000.0</td>\n",
       "      <td>2009.0</td>\n",
       "      <td>7.9</td>\n",
       "      <td>33000</td>\n",
       "      <td>10</td>\n",
       "    </tr>\n",
       "  </tbody>\n",
       "</table>\n",
       "</div>"
      ],
      "text/plain": [
       "   color  director_name  duration      actor_2_name        gross  \\\n",
       "0  Color  James Cameron     178.0  Joel David Moore  760505847.0   \n",
       "\n",
       "                            genres actor_1_name movie_title  \\\n",
       "0  Action|Adventure|Fantasy|Sci-Fi  CCH Pounder     Avatar    \n",
       "\n",
       "   cast_total_facebook_likes actor_3_name country content_rating       budget  \\\n",
       "0                       4834    Wes Studi     USA          PG-13  237000000.0   \n",
       "\n",
       "   title_year  imdb_score  movie_facebook_likes  cluster  \n",
       "0      2009.0         7.9                 33000       10  "
      ]
     },
     "execution_count": 136,
     "metadata": {},
     "output_type": "execute_result"
    }
   ],
   "source": [
    "a = dados.iloc[:1,:]\n",
    "a"
   ]
  },
  {
   "cell_type": "code",
   "execution_count": 158,
   "metadata": {},
   "outputs": [
    {
     "data": {
      "text/plain": [
       "10"
      ]
     },
     "execution_count": 158,
     "metadata": {},
     "output_type": "execute_result"
    }
   ],
   "source": [
    "d = a.cluster[0]\n",
    "d"
   ]
  },
  {
   "cell_type": "code",
   "execution_count": 161,
   "metadata": {
    "scrolled": true
   },
   "outputs": [
    {
     "data": {
      "text/html": [
       "<div>\n",
       "<style scoped>\n",
       "    .dataframe tbody tr th:only-of-type {\n",
       "        vertical-align: middle;\n",
       "    }\n",
       "\n",
       "    .dataframe tbody tr th {\n",
       "        vertical-align: top;\n",
       "    }\n",
       "\n",
       "    .dataframe thead th {\n",
       "        text-align: right;\n",
       "    }\n",
       "</style>\n",
       "<table border=\"1\" class=\"dataframe\">\n",
       "  <thead>\n",
       "    <tr style=\"text-align: right;\">\n",
       "      <th></th>\n",
       "      <th>color</th>\n",
       "      <th>director_name</th>\n",
       "      <th>duration</th>\n",
       "      <th>actor_2_name</th>\n",
       "      <th>gross</th>\n",
       "      <th>genres</th>\n",
       "      <th>actor_1_name</th>\n",
       "      <th>movie_title</th>\n",
       "      <th>cast_total_facebook_likes</th>\n",
       "      <th>actor_3_name</th>\n",
       "      <th>country</th>\n",
       "      <th>content_rating</th>\n",
       "      <th>budget</th>\n",
       "      <th>title_year</th>\n",
       "      <th>imdb_score</th>\n",
       "      <th>movie_facebook_likes</th>\n",
       "      <th>cluster</th>\n",
       "    </tr>\n",
       "  </thead>\n",
       "  <tbody>\n",
       "    <tr>\n",
       "      <th>1937</th>\n",
       "      <td>Color</td>\n",
       "      <td>Frank Darabont</td>\n",
       "      <td>142.0</td>\n",
       "      <td>Jeffrey DeMunn</td>\n",
       "      <td>28341469.0</td>\n",
       "      <td>Crime|Drama</td>\n",
       "      <td>Morgan Freeman</td>\n",
       "      <td>The Shawshank Redemption</td>\n",
       "      <td>13495</td>\n",
       "      <td>Bob Gunton</td>\n",
       "      <td>USA</td>\n",
       "      <td>R</td>\n",
       "      <td>25000000.0</td>\n",
       "      <td>1994.0</td>\n",
       "      <td>9.3</td>\n",
       "      <td>108000</td>\n",
       "      <td>10</td>\n",
       "    </tr>\n",
       "    <tr>\n",
       "      <th>3466</th>\n",
       "      <td>Color</td>\n",
       "      <td>Francis Ford Coppola</td>\n",
       "      <td>175.0</td>\n",
       "      <td>Marlon Brando</td>\n",
       "      <td>134821952.0</td>\n",
       "      <td>Crime|Drama</td>\n",
       "      <td>Al Pacino</td>\n",
       "      <td>The Godfather</td>\n",
       "      <td>28122</td>\n",
       "      <td>Robert Duvall</td>\n",
       "      <td>USA</td>\n",
       "      <td>R</td>\n",
       "      <td>6000000.0</td>\n",
       "      <td>1972.0</td>\n",
       "      <td>9.2</td>\n",
       "      <td>43000</td>\n",
       "      <td>10</td>\n",
       "    </tr>\n",
       "    <tr>\n",
       "      <th>66</th>\n",
       "      <td>Color</td>\n",
       "      <td>Christopher Nolan</td>\n",
       "      <td>152.0</td>\n",
       "      <td>Heath Ledger</td>\n",
       "      <td>533316061.0</td>\n",
       "      <td>Action|Crime|Drama|Thriller</td>\n",
       "      <td>Christian Bale</td>\n",
       "      <td>The Dark Knight</td>\n",
       "      <td>57802</td>\n",
       "      <td>Morgan Freeman</td>\n",
       "      <td>USA</td>\n",
       "      <td>PG-13</td>\n",
       "      <td>185000000.0</td>\n",
       "      <td>2008.0</td>\n",
       "      <td>9.0</td>\n",
       "      <td>37000</td>\n",
       "      <td>10</td>\n",
       "    </tr>\n",
       "    <tr>\n",
       "      <th>2837</th>\n",
       "      <td>Color</td>\n",
       "      <td>Francis Ford Coppola</td>\n",
       "      <td>220.0</td>\n",
       "      <td>Al Pacino</td>\n",
       "      <td>57300000.0</td>\n",
       "      <td>Crime|Drama</td>\n",
       "      <td>Robert De Niro</td>\n",
       "      <td>The Godfather: Part II</td>\n",
       "      <td>39960</td>\n",
       "      <td>Robert Duvall</td>\n",
       "      <td>USA</td>\n",
       "      <td>R</td>\n",
       "      <td>13000000.0</td>\n",
       "      <td>1974.0</td>\n",
       "      <td>9.0</td>\n",
       "      <td>14000</td>\n",
       "      <td>10</td>\n",
       "    </tr>\n",
       "    <tr>\n",
       "      <th>339</th>\n",
       "      <td>Color</td>\n",
       "      <td>Peter Jackson</td>\n",
       "      <td>192.0</td>\n",
       "      <td>Billy Boyd</td>\n",
       "      <td>377019252.0</td>\n",
       "      <td>Action|Adventure|Drama|Fantasy</td>\n",
       "      <td>Orlando Bloom</td>\n",
       "      <td>The Lord of the Rings: The Return of the King</td>\n",
       "      <td>6434</td>\n",
       "      <td>Bernard Hill</td>\n",
       "      <td>USA</td>\n",
       "      <td>PG-13</td>\n",
       "      <td>94000000.0</td>\n",
       "      <td>2003.0</td>\n",
       "      <td>8.9</td>\n",
       "      <td>16000</td>\n",
       "      <td>10</td>\n",
       "    </tr>\n",
       "  </tbody>\n",
       "</table>\n",
       "</div>"
      ],
      "text/plain": [
       "      color         director_name  duration    actor_2_name        gross  \\\n",
       "1937  Color        Frank Darabont     142.0  Jeffrey DeMunn   28341469.0   \n",
       "3466  Color  Francis Ford Coppola     175.0   Marlon Brando  134821952.0   \n",
       "66    Color     Christopher Nolan     152.0    Heath Ledger  533316061.0   \n",
       "2837  Color  Francis Ford Coppola     220.0       Al Pacino   57300000.0   \n",
       "339   Color         Peter Jackson     192.0      Billy Boyd  377019252.0   \n",
       "\n",
       "                              genres    actor_1_name  \\\n",
       "1937                     Crime|Drama  Morgan Freeman   \n",
       "3466                     Crime|Drama       Al Pacino   \n",
       "66       Action|Crime|Drama|Thriller  Christian Bale   \n",
       "2837                     Crime|Drama  Robert De Niro   \n",
       "339   Action|Adventure|Drama|Fantasy   Orlando Bloom   \n",
       "\n",
       "                                         movie_title  \\\n",
       "1937                       The Shawshank Redemption    \n",
       "3466                                  The Godfather    \n",
       "66                                  The Dark Knight    \n",
       "2837                         The Godfather: Part II    \n",
       "339   The Lord of the Rings: The Return of the King    \n",
       "\n",
       "      cast_total_facebook_likes    actor_3_name country content_rating  \\\n",
       "1937                      13495      Bob Gunton     USA              R   \n",
       "3466                      28122   Robert Duvall     USA              R   \n",
       "66                        57802  Morgan Freeman     USA          PG-13   \n",
       "2837                      39960   Robert Duvall     USA              R   \n",
       "339                        6434    Bernard Hill     USA          PG-13   \n",
       "\n",
       "           budget  title_year  imdb_score  movie_facebook_likes  cluster  \n",
       "1937   25000000.0      1994.0         9.3                108000       10  \n",
       "3466    6000000.0      1972.0         9.2                 43000       10  \n",
       "66    185000000.0      2008.0         9.0                 37000       10  \n",
       "2837   13000000.0      1974.0         9.0                 14000       10  \n",
       "339    94000000.0      2003.0         8.9                 16000       10  "
      ]
     },
     "execution_count": 161,
     "metadata": {},
     "output_type": "execute_result"
    }
   ],
   "source": [
    "b = dados[c==d]\n",
    "b.sort_values(by=\"imdb_score\", ascending=False).head(5)"
   ]
  },
  {
   "cell_type": "code",
   "execution_count": null,
   "metadata": {},
   "outputs": [],
   "source": []
  }
 ],
 "metadata": {
  "kernelspec": {
   "display_name": "Python 3",
   "language": "python",
   "name": "python3"
  },
  "language_info": {
   "codemirror_mode": {
    "name": "ipython",
    "version": 3
   },
   "file_extension": ".py",
   "mimetype": "text/x-python",
   "name": "python",
   "nbconvert_exporter": "python",
   "pygments_lexer": "ipython3",
   "version": "3.6.4"
  }
 },
 "nbformat": 4,
 "nbformat_minor": 2
}
