{
 "cells": [
  {
   "cell_type": "markdown",
   "metadata": {},
   "source": [
    "___\n",
    "# Ciência dos Dados - Projeto 3: Filmes#\n",
    "___\n",
    "\n",
    "### _Gabriela Caruso e Mariana Abrantes - 2C_ ###\n",
    "___"
   ]
  },
  {
   "cell_type": "markdown",
   "metadata": {},
   "source": [
    "## Introdução ##\n",
    "\n",
    "No projeto final de Ciência dos Dados foi conduzida uma análise exploratória de dados de filmes. A partir desta, foi desenvolvida uma conclusão analítica baseada na técnica de clusterização. \n",
    "\n",
    "Clustering ou análise de agrupamento de dados é o agrupamento automático destes segundo seu grau de semelhança, que tem como base o alogaritmo. Os tipos mais comuns do alogaritmos são os particionais e os hierárquicos."
   ]
  },
  {
   "cell_type": "markdown",
   "metadata": {},
   "source": [
    "## Objetivo ##"
   ]
  },
  {
   "cell_type": "markdown",
   "metadata": {},
   "source": [
    "Nosso trabalho tem como objetivo criar uma playlist de filmes baseados no nosso dataset utilizando o método Agglomerative Clustering, para que o usuário informe algum filme e o computador crie uma playlist baseada neste. "
   ]
  },
  {
   "cell_type": "markdown",
   "metadata": {},
   "source": [
    "## Imports ##"
   ]
  },
  {
   "cell_type": "code",
   "execution_count": 79,
   "metadata": {},
   "outputs": [],
   "source": [
    "%matplotlib inline\n",
    "%reset -f\n",
    "import pandas as pd\n",
    "import numpy as np\n",
    "import matplotlib.pyplot as plt\n",
    "\n",
    "import scipy\n",
    "import seaborn as sb\n",
    "import sklearn\n",
    "import sklearn.metrics as sm\n",
    "\n",
    "from scipy.stats import norm\n",
    "from mpl_toolkits.mplot3d import Axes3D\n",
    "from sklearn import cluster, datasets\n",
    "from sklearn.neighbors import kneighbors_graph\n",
    "from sklearn.preprocessing import StandardScaler\n",
    "from sklearn.cluster import AgglomerativeClustering\n",
    "\n",
    "from scipy.cluster.hierarchy import dendrogram, linkage\n",
    "from scipy.cluster.hierarchy import fcluster\n",
    "from scipy.cluster.hierarchy import cophenet\n",
    "from scipy.spatial.distance import pdist\n",
    "\n",
    "from pylab import rcParams\n",
    "\n",
    "np.random.seed(42)"
   ]
  },
  {
   "cell_type": "markdown",
   "metadata": {},
   "source": [
    "## Lendo as tabelas"
   ]
  },
  {
   "cell_type": "markdown",
   "metadata": {},
   "source": [
    "Para a realização do trabalho utilizamos os dados provenientes do site: https://data.world/popculture/imdb-5000-movie-dataset."
   ]
  },
  {
   "cell_type": "code",
   "execution_count": 80,
   "metadata": {},
   "outputs": [],
   "source": [
    "#----------------------------------------- PASSANDO DE CSV PARA EXCEL ---------------------------------------------------------#\n",
    "\n",
    "#df = pd.read_csv('https://query.data.world/s/dgju3rv2knocz2ost6qyly7vwyekcv')\n",
    "#writer = pd.ExcelWriter('Projeto3_CD.xlsx')\n",
    "#df.to_excel(writer,'data')\n",
    "#writer.save()"
   ]
  },
  {
   "cell_type": "markdown",
   "metadata": {},
   "source": [
    "Este _dataset_ disponibiliza a tabela a seguir:"
   ]
  },
  {
   "cell_type": "code",
   "execution_count": 81,
   "metadata": {
    "scrolled": true
   },
   "outputs": [
    {
     "data": {
      "text/html": [
       "<div>\n",
       "<style scoped>\n",
       "    .dataframe tbody tr th:only-of-type {\n",
       "        vertical-align: middle;\n",
       "    }\n",
       "\n",
       "    .dataframe tbody tr th {\n",
       "        vertical-align: top;\n",
       "    }\n",
       "\n",
       "    .dataframe thead th {\n",
       "        text-align: right;\n",
       "    }\n",
       "</style>\n",
       "<table border=\"1\" class=\"dataframe\">\n",
       "  <thead>\n",
       "    <tr style=\"text-align: right;\">\n",
       "      <th></th>\n",
       "      <th>color</th>\n",
       "      <th>director_name</th>\n",
       "      <th>num_critic_for_reviews</th>\n",
       "      <th>duration</th>\n",
       "      <th>director_facebook_likes</th>\n",
       "      <th>actor_3_facebook_likes</th>\n",
       "      <th>actor_2_name</th>\n",
       "      <th>actor_1_facebook_likes</th>\n",
       "      <th>gross</th>\n",
       "      <th>genres</th>\n",
       "      <th>...</th>\n",
       "      <th>num_user_for_reviews</th>\n",
       "      <th>language</th>\n",
       "      <th>country</th>\n",
       "      <th>content_rating</th>\n",
       "      <th>budget</th>\n",
       "      <th>title_year</th>\n",
       "      <th>actor_2_facebook_likes</th>\n",
       "      <th>imdb_score</th>\n",
       "      <th>aspect_ratio</th>\n",
       "      <th>movie_facebook_likes</th>\n",
       "    </tr>\n",
       "  </thead>\n",
       "  <tbody>\n",
       "    <tr>\n",
       "      <th>0</th>\n",
       "      <td>Color</td>\n",
       "      <td>James Cameron</td>\n",
       "      <td>723.0</td>\n",
       "      <td>178.0</td>\n",
       "      <td>0.0</td>\n",
       "      <td>855.0</td>\n",
       "      <td>Joel David Moore</td>\n",
       "      <td>1000.0</td>\n",
       "      <td>760505847.0</td>\n",
       "      <td>Action|Adventure|Fantasy|Sci-Fi</td>\n",
       "      <td>...</td>\n",
       "      <td>3054.0</td>\n",
       "      <td>English</td>\n",
       "      <td>USA</td>\n",
       "      <td>PG-13</td>\n",
       "      <td>237000000.0</td>\n",
       "      <td>2009.0</td>\n",
       "      <td>936.0</td>\n",
       "      <td>7.9</td>\n",
       "      <td>1.78</td>\n",
       "      <td>33000</td>\n",
       "    </tr>\n",
       "    <tr>\n",
       "      <th>1</th>\n",
       "      <td>Color</td>\n",
       "      <td>Gore Verbinski</td>\n",
       "      <td>302.0</td>\n",
       "      <td>169.0</td>\n",
       "      <td>563.0</td>\n",
       "      <td>1000.0</td>\n",
       "      <td>Orlando Bloom</td>\n",
       "      <td>40000.0</td>\n",
       "      <td>309404152.0</td>\n",
       "      <td>Action|Adventure|Fantasy</td>\n",
       "      <td>...</td>\n",
       "      <td>1238.0</td>\n",
       "      <td>English</td>\n",
       "      <td>USA</td>\n",
       "      <td>PG-13</td>\n",
       "      <td>300000000.0</td>\n",
       "      <td>2007.0</td>\n",
       "      <td>5000.0</td>\n",
       "      <td>7.1</td>\n",
       "      <td>2.35</td>\n",
       "      <td>0</td>\n",
       "    </tr>\n",
       "    <tr>\n",
       "      <th>2</th>\n",
       "      <td>Color</td>\n",
       "      <td>Sam Mendes</td>\n",
       "      <td>602.0</td>\n",
       "      <td>148.0</td>\n",
       "      <td>0.0</td>\n",
       "      <td>161.0</td>\n",
       "      <td>Rory Kinnear</td>\n",
       "      <td>11000.0</td>\n",
       "      <td>200074175.0</td>\n",
       "      <td>Action|Adventure|Thriller</td>\n",
       "      <td>...</td>\n",
       "      <td>994.0</td>\n",
       "      <td>English</td>\n",
       "      <td>UK</td>\n",
       "      <td>PG-13</td>\n",
       "      <td>245000000.0</td>\n",
       "      <td>2015.0</td>\n",
       "      <td>393.0</td>\n",
       "      <td>6.8</td>\n",
       "      <td>2.35</td>\n",
       "      <td>85000</td>\n",
       "    </tr>\n",
       "    <tr>\n",
       "      <th>3</th>\n",
       "      <td>Color</td>\n",
       "      <td>Christopher Nolan</td>\n",
       "      <td>813.0</td>\n",
       "      <td>164.0</td>\n",
       "      <td>22000.0</td>\n",
       "      <td>23000.0</td>\n",
       "      <td>Christian Bale</td>\n",
       "      <td>27000.0</td>\n",
       "      <td>448130642.0</td>\n",
       "      <td>Action|Thriller</td>\n",
       "      <td>...</td>\n",
       "      <td>2701.0</td>\n",
       "      <td>English</td>\n",
       "      <td>USA</td>\n",
       "      <td>PG-13</td>\n",
       "      <td>250000000.0</td>\n",
       "      <td>2012.0</td>\n",
       "      <td>23000.0</td>\n",
       "      <td>8.5</td>\n",
       "      <td>2.35</td>\n",
       "      <td>164000</td>\n",
       "    </tr>\n",
       "    <tr>\n",
       "      <th>4</th>\n",
       "      <td>NaN</td>\n",
       "      <td>Doug Walker</td>\n",
       "      <td>NaN</td>\n",
       "      <td>NaN</td>\n",
       "      <td>131.0</td>\n",
       "      <td>NaN</td>\n",
       "      <td>Rob Walker</td>\n",
       "      <td>131.0</td>\n",
       "      <td>NaN</td>\n",
       "      <td>Documentary</td>\n",
       "      <td>...</td>\n",
       "      <td>NaN</td>\n",
       "      <td>NaN</td>\n",
       "      <td>NaN</td>\n",
       "      <td>NaN</td>\n",
       "      <td>NaN</td>\n",
       "      <td>NaN</td>\n",
       "      <td>12.0</td>\n",
       "      <td>7.1</td>\n",
       "      <td>NaN</td>\n",
       "      <td>0</td>\n",
       "    </tr>\n",
       "  </tbody>\n",
       "</table>\n",
       "<p>5 rows × 28 columns</p>\n",
       "</div>"
      ],
      "text/plain": [
       "   color      director_name  num_critic_for_reviews  duration  \\\n",
       "0  Color      James Cameron                   723.0     178.0   \n",
       "1  Color     Gore Verbinski                   302.0     169.0   \n",
       "2  Color         Sam Mendes                   602.0     148.0   \n",
       "3  Color  Christopher Nolan                   813.0     164.0   \n",
       "4    NaN        Doug Walker                     NaN       NaN   \n",
       "\n",
       "   director_facebook_likes  actor_3_facebook_likes      actor_2_name  \\\n",
       "0                      0.0                   855.0  Joel David Moore   \n",
       "1                    563.0                  1000.0     Orlando Bloom   \n",
       "2                      0.0                   161.0      Rory Kinnear   \n",
       "3                  22000.0                 23000.0    Christian Bale   \n",
       "4                    131.0                     NaN        Rob Walker   \n",
       "\n",
       "   actor_1_facebook_likes        gross                           genres  \\\n",
       "0                  1000.0  760505847.0  Action|Adventure|Fantasy|Sci-Fi   \n",
       "1                 40000.0  309404152.0         Action|Adventure|Fantasy   \n",
       "2                 11000.0  200074175.0        Action|Adventure|Thriller   \n",
       "3                 27000.0  448130642.0                  Action|Thriller   \n",
       "4                   131.0          NaN                      Documentary   \n",
       "\n",
       "          ...          num_user_for_reviews language  country  content_rating  \\\n",
       "0         ...                        3054.0  English      USA           PG-13   \n",
       "1         ...                        1238.0  English      USA           PG-13   \n",
       "2         ...                         994.0  English       UK           PG-13   \n",
       "3         ...                        2701.0  English      USA           PG-13   \n",
       "4         ...                           NaN      NaN      NaN             NaN   \n",
       "\n",
       "        budget  title_year actor_2_facebook_likes imdb_score  aspect_ratio  \\\n",
       "0  237000000.0      2009.0                  936.0        7.9          1.78   \n",
       "1  300000000.0      2007.0                 5000.0        7.1          2.35   \n",
       "2  245000000.0      2015.0                  393.0        6.8          2.35   \n",
       "3  250000000.0      2012.0                23000.0        8.5          2.35   \n",
       "4          NaN         NaN                   12.0        7.1           NaN   \n",
       "\n",
       "  movie_facebook_likes  \n",
       "0                33000  \n",
       "1                    0  \n",
       "2                85000  \n",
       "3               164000  \n",
       "4                    0  \n",
       "\n",
       "[5 rows x 28 columns]"
      ]
     },
     "execution_count": 81,
     "metadata": {},
     "output_type": "execute_result"
    }
   ],
   "source": [
    "df = pd.read_excel('Projeto3_CD.xlsx')\n",
    "df.head()"
   ]
  },
  {
   "cell_type": "markdown",
   "metadata": {},
   "source": [
    "## Eliminando colunas"
   ]
  },
  {
   "cell_type": "markdown",
   "metadata": {},
   "source": [
    "O dataset escolhido vinham com 28 colunas, entretanto nem todas relevantes para a finalidade do nosso projeto. \n",
    "Mantiveram-se apenas as 16 seguintes."
   ]
  },
  {
   "cell_type": "code",
   "execution_count": 82,
   "metadata": {
    "scrolled": true
   },
   "outputs": [],
   "source": [
    "dado = df.drop(labels=None, axis=0, index=None, columns='movie_imdb_link', level=None, inplace=False, errors='raise')\n",
    "dado2 = dado.drop(labels=None, axis=0, index=None, columns='aspect_ratio', level=None, inplace=False, errors='raise')\n",
    "dado3 = dado2.drop(labels=None, axis=0, index=None, columns='language', level=None, inplace=False, errors='raise')\n",
    "dado4 = dado3.drop(labels=None, axis=0, index=None, columns='facenumber_in_poster', level=None, inplace=False, errors='raise')\n",
    "dado5 = dado4.drop(labels=None, axis=0, index=None, columns='plot_keywords', level=None, inplace=False, errors='raise')\n",
    "dado6 = dado5.drop(labels=None, axis=0, index=None, columns='num_voted_users', level=None, inplace=False, errors='raise')\n",
    "dado7 = dado6.drop(labels=None, axis=0, index=None, columns='num_critic_for_reviews', level=None, inplace=False, errors='raise')\n",
    "dado8 = dado7.drop(labels=None, axis=0, index=None, columns='num_user_for_reviews', level=None, inplace=False, errors='raise')\n",
    "dado9 = dado8.drop(labels=None, axis=0, index=None, columns='director_facebook_likes', level=None, inplace=False, errors='raise')\n",
    "dado10 = dado9.drop(labels=None, axis=0, index=None, columns='actor_3_facebook_likes', level=None, inplace=False, errors='raise')\n",
    "dado11 = dado10.drop(labels=None, axis=0, index=None, columns='actor_1_facebook_likes', level=None, inplace=False, errors='raise')\n",
    "dado12 = dado11.drop(labels=None, axis=0, index=None, columns='actor_2_facebook_likes', level=None, inplace=False, errors='raise')\n",
    "data = dado12.dropna(axis = 0, how = \"any\", thresh = None, subset = None, inplace = False)\n",
    "dados = dado12.dropna(axis = 0, how = \"any\", thresh = None, subset = None, inplace = False)"
   ]
  },
  {
   "cell_type": "code",
   "execution_count": 83,
   "metadata": {},
   "outputs": [
    {
     "data": {
      "text/plain": [
       "['color',\n",
       " 'director_name',\n",
       " 'duration',\n",
       " 'actor_2_name',\n",
       " 'gross',\n",
       " 'genres',\n",
       " 'actor_1_name',\n",
       " 'movie_title',\n",
       " 'cast_total_facebook_likes',\n",
       " 'actor_3_name',\n",
       " 'country',\n",
       " 'content_rating',\n",
       " 'budget',\n",
       " 'title_year',\n",
       " 'imdb_score',\n",
       " 'movie_facebook_likes']"
      ]
     },
     "execution_count": 83,
     "metadata": {},
     "output_type": "execute_result"
    }
   ],
   "source": [
    "colunas = list(data)\n",
    "#print(len(colunas))\n",
    "colunas"
   ]
  },
  {
   "cell_type": "markdown",
   "metadata": {},
   "source": [
    "## Análise Exploratória ##"
   ]
  },
  {
   "cell_type": "markdown",
   "metadata": {},
   "source": [
    "### Correlação e _Heatmap_"
   ]
  },
  {
   "cell_type": "code",
   "execution_count": 84,
   "metadata": {
    "scrolled": true
   },
   "outputs": [
    {
     "data": {
      "text/html": [
       "<div>\n",
       "<style scoped>\n",
       "    .dataframe tbody tr th:only-of-type {\n",
       "        vertical-align: middle;\n",
       "    }\n",
       "\n",
       "    .dataframe tbody tr th {\n",
       "        vertical-align: top;\n",
       "    }\n",
       "\n",
       "    .dataframe thead th {\n",
       "        text-align: right;\n",
       "    }\n",
       "</style>\n",
       "<table border=\"1\" class=\"dataframe\">\n",
       "  <thead>\n",
       "    <tr style=\"text-align: right;\">\n",
       "      <th></th>\n",
       "      <th>duration</th>\n",
       "      <th>gross</th>\n",
       "      <th>cast_total_facebook_likes</th>\n",
       "      <th>budget</th>\n",
       "      <th>title_year</th>\n",
       "      <th>imdb_score</th>\n",
       "      <th>movie_facebook_likes</th>\n",
       "    </tr>\n",
       "  </thead>\n",
       "  <tbody>\n",
       "    <tr>\n",
       "      <th>duration</th>\n",
       "      <td>1.000000</td>\n",
       "      <td>0.252930</td>\n",
       "      <td>0.123148</td>\n",
       "      <td>0.070070</td>\n",
       "      <td>-0.130492</td>\n",
       "      <td>0.366264</td>\n",
       "      <td>0.221966</td>\n",
       "    </tr>\n",
       "    <tr>\n",
       "      <th>gross</th>\n",
       "      <td>0.252930</td>\n",
       "      <td>1.000000</td>\n",
       "      <td>0.237917</td>\n",
       "      <td>0.101757</td>\n",
       "      <td>0.049290</td>\n",
       "      <td>0.216346</td>\n",
       "      <td>0.373275</td>\n",
       "    </tr>\n",
       "    <tr>\n",
       "      <th>cast_total_facebook_likes</th>\n",
       "      <td>0.123148</td>\n",
       "      <td>0.237917</td>\n",
       "      <td>1.000000</td>\n",
       "      <td>0.029852</td>\n",
       "      <td>0.122454</td>\n",
       "      <td>0.107451</td>\n",
       "      <td>0.205164</td>\n",
       "    </tr>\n",
       "    <tr>\n",
       "      <th>budget</th>\n",
       "      <td>0.070070</td>\n",
       "      <td>0.101757</td>\n",
       "      <td>0.029852</td>\n",
       "      <td>1.000000</td>\n",
       "      <td>0.045332</td>\n",
       "      <td>0.030136</td>\n",
       "      <td>0.054351</td>\n",
       "    </tr>\n",
       "    <tr>\n",
       "      <th>title_year</th>\n",
       "      <td>-0.130492</td>\n",
       "      <td>0.049290</td>\n",
       "      <td>0.122454</td>\n",
       "      <td>0.045332</td>\n",
       "      <td>1.000000</td>\n",
       "      <td>-0.135839</td>\n",
       "      <td>0.301236</td>\n",
       "    </tr>\n",
       "    <tr>\n",
       "      <th>imdb_score</th>\n",
       "      <td>0.366264</td>\n",
       "      <td>0.216346</td>\n",
       "      <td>0.107451</td>\n",
       "      <td>0.030136</td>\n",
       "      <td>-0.135839</td>\n",
       "      <td>1.000000</td>\n",
       "      <td>0.280577</td>\n",
       "    </tr>\n",
       "    <tr>\n",
       "      <th>movie_facebook_likes</th>\n",
       "      <td>0.221966</td>\n",
       "      <td>0.373275</td>\n",
       "      <td>0.205164</td>\n",
       "      <td>0.054351</td>\n",
       "      <td>0.301236</td>\n",
       "      <td>0.280577</td>\n",
       "      <td>1.000000</td>\n",
       "    </tr>\n",
       "  </tbody>\n",
       "</table>\n",
       "</div>"
      ],
      "text/plain": [
       "                           duration     gross  cast_total_facebook_likes  \\\n",
       "duration                   1.000000  0.252930                   0.123148   \n",
       "gross                      0.252930  1.000000                   0.237917   \n",
       "cast_total_facebook_likes  0.123148  0.237917                   1.000000   \n",
       "budget                     0.070070  0.101757                   0.029852   \n",
       "title_year                -0.130492  0.049290                   0.122454   \n",
       "imdb_score                 0.366264  0.216346                   0.107451   \n",
       "movie_facebook_likes       0.221966  0.373275                   0.205164   \n",
       "\n",
       "                             budget  title_year  imdb_score  \\\n",
       "duration                   0.070070   -0.130492    0.366264   \n",
       "gross                      0.101757    0.049290    0.216346   \n",
       "cast_total_facebook_likes  0.029852    0.122454    0.107451   \n",
       "budget                     1.000000    0.045332    0.030136   \n",
       "title_year                 0.045332    1.000000   -0.135839   \n",
       "imdb_score                 0.030136   -0.135839    1.000000   \n",
       "movie_facebook_likes       0.054351    0.301236    0.280577   \n",
       "\n",
       "                           movie_facebook_likes  \n",
       "duration                               0.221966  \n",
       "gross                                  0.373275  \n",
       "cast_total_facebook_likes              0.205164  \n",
       "budget                                 0.054351  \n",
       "title_year                             0.301236  \n",
       "imdb_score                             0.280577  \n",
       "movie_facebook_likes                   1.000000  "
      ]
     },
     "execution_count": 84,
     "metadata": {},
     "output_type": "execute_result"
    }
   ],
   "source": [
    "data.corr()"
   ]
  },
  {
   "cell_type": "code",
   "execution_count": 85,
   "metadata": {
    "scrolled": false
   },
   "outputs": [
    {
     "data": {
      "image/png": "[encoded data removed]",
      "text/plain": [
       "<Figure size 1152x576 with 2 Axes>"
      ]
     },
     "metadata": {},
     "output_type": "display_data"
    }
   ],
   "source": [
    "plt.figure(figsize=(16, 8))\n",
    "sb.heatmap(data.corr(), linewidth=2);"
   ]
  },
  {
   "cell_type": "markdown",
   "metadata": {},
   "source": [
    "A tabela e o gráfico nos mostram as correlaçôes entre os dados numéricos do nosso _DataFrame_. Estas apresentam valores muito baixos devido a independência dos dados em questão. Os quais serão analisados individualmente e portanto a relação não interfere no resultado do projeto."
   ]
  },
  {
   "cell_type": "code",
   "execution_count": 86,
   "metadata": {
    "scrolled": false
   },
   "outputs": [
    {
     "data": {
      "text/html": [
       "<div>\n",
       "<style scoped>\n",
       "    .dataframe tbody tr th:only-of-type {\n",
       "        vertical-align: middle;\n",
       "    }\n",
       "\n",
       "    .dataframe tbody tr th {\n",
       "        vertical-align: top;\n",
       "    }\n",
       "\n",
       "    .dataframe thead th {\n",
       "        text-align: right;\n",
       "    }\n",
       "</style>\n",
       "<table border=\"1\" class=\"dataframe\">\n",
       "  <thead>\n",
       "    <tr style=\"text-align: right;\">\n",
       "      <th></th>\n",
       "      <th>duration</th>\n",
       "      <th>gross</th>\n",
       "      <th>cast_total_facebook_likes</th>\n",
       "      <th>budget</th>\n",
       "      <th>title_year</th>\n",
       "      <th>imdb_score</th>\n",
       "      <th>movie_facebook_likes</th>\n",
       "    </tr>\n",
       "  </thead>\n",
       "  <tbody>\n",
       "    <tr>\n",
       "      <th>0</th>\n",
       "      <td>178.0</td>\n",
       "      <td>760505847.0</td>\n",
       "      <td>4834</td>\n",
       "      <td>237000000.0</td>\n",
       "      <td>2009.0</td>\n",
       "      <td>7.9</td>\n",
       "      <td>33000</td>\n",
       "    </tr>\n",
       "    <tr>\n",
       "      <th>1</th>\n",
       "      <td>169.0</td>\n",
       "      <td>309404152.0</td>\n",
       "      <td>48350</td>\n",
       "      <td>300000000.0</td>\n",
       "      <td>2007.0</td>\n",
       "      <td>7.1</td>\n",
       "      <td>0</td>\n",
       "    </tr>\n",
       "    <tr>\n",
       "      <th>2</th>\n",
       "      <td>148.0</td>\n",
       "      <td>200074175.0</td>\n",
       "      <td>11700</td>\n",
       "      <td>245000000.0</td>\n",
       "      <td>2015.0</td>\n",
       "      <td>6.8</td>\n",
       "      <td>85000</td>\n",
       "    </tr>\n",
       "    <tr>\n",
       "      <th>3</th>\n",
       "      <td>164.0</td>\n",
       "      <td>448130642.0</td>\n",
       "      <td>106759</td>\n",
       "      <td>250000000.0</td>\n",
       "      <td>2012.0</td>\n",
       "      <td>8.5</td>\n",
       "      <td>164000</td>\n",
       "    </tr>\n",
       "    <tr>\n",
       "      <th>5</th>\n",
       "      <td>132.0</td>\n",
       "      <td>73058679.0</td>\n",
       "      <td>1873</td>\n",
       "      <td>263700000.0</td>\n",
       "      <td>2012.0</td>\n",
       "      <td>6.6</td>\n",
       "      <td>24000</td>\n",
       "    </tr>\n",
       "  </tbody>\n",
       "</table>\n",
       "</div>"
      ],
      "text/plain": [
       "   duration        gross  cast_total_facebook_likes       budget  title_year  \\\n",
       "0     178.0  760505847.0                       4834  237000000.0      2009.0   \n",
       "1     169.0  309404152.0                      48350  300000000.0      2007.0   \n",
       "2     148.0  200074175.0                      11700  245000000.0      2015.0   \n",
       "3     164.0  448130642.0                     106759  250000000.0      2012.0   \n",
       "5     132.0   73058679.0                       1873  263700000.0      2012.0   \n",
       "\n",
       "   imdb_score  movie_facebook_likes  \n",
       "0         7.9                 33000  \n",
       "1         7.1                     0  \n",
       "2         6.8                 85000  \n",
       "3         8.5                164000  \n",
       "5         6.6                 24000  "
      ]
     },
     "execution_count": 86,
     "metadata": {},
     "output_type": "execute_result"
    }
   ],
   "source": [
    "#--------------------------- CRIANDO UM DATAFRAME SÓ COM OS FEATURES NUMÉRICOS ------------------------------------------------#\n",
    "data2 = data[['duration', 'gross', 'cast_total_facebook_likes', 'budget', 'title_year', 'imdb_score', 'movie_facebook_likes']]\n",
    "data2.head()"
   ]
  },
  {
   "cell_type": "code",
   "execution_count": null,
   "metadata": {
    "scrolled": true
   },
   "outputs": [],
   "source": [
    "sb.set(style=\"ticks\")\n",
    "sb.pairplot(data2, hue='title_year');"
   ]
  },
  {
   "cell_type": "markdown",
   "metadata": {},
   "source": [
    "A matriz de dispersão acima exemplifica graficamente a baixa correlação entre os dados."
   ]
  },
  {
   "cell_type": "markdown",
   "metadata": {},
   "source": [
    "### Analisando alguns dados individualmente"
   ]
  },
  {
   "cell_type": "code",
   "execution_count": null,
   "metadata": {
    "scrolled": true
   },
   "outputs": [],
   "source": [
    "data.loc[:,\"title_year\"].plot.box()\n",
    "data['title_year'].describe()"
   ]
  },
  {
   "cell_type": "markdown",
   "metadata": {},
   "source": [
    "Analisando a coluna dos anos de lançamento dos filmes pelo _Boxplot_, observa-se que a maior concentração se dá na década de 2000."
   ]
  },
  {
   "cell_type": "code",
   "execution_count": null,
   "metadata": {},
   "outputs": [],
   "source": [
    "data.loc[:,\"imdb_score\"].plot.box()\n",
    "data['imdb_score'].describe()"
   ]
  },
  {
   "cell_type": "markdown",
   "metadata": {},
   "source": [
    "Analisando a coluna da avaliação dos filmes feita pelo Imbd pelo _Boxplot_, observa-se que a nota média é aproximadamente 6,5."
   ]
  },
  {
   "cell_type": "markdown",
   "metadata": {},
   "source": [
    "## Alterando os dados escritos por numéricos"
   ]
  },
  {
   "cell_type": "code",
   "execution_count": null,
   "metadata": {},
   "outputs": [],
   "source": [
    "def numerar(dataframe, coluna):\n",
    "    # Criando a lista de nomes únicos:\n",
    "    unico = []\n",
    "    for classe in dataframe[coluna]:\n",
    "        if classe not in unico:\n",
    "            unico.append(classe)\n",
    "            \n",
    "    # Criando a lista de nomes alterados para números:\n",
    "    reclassificado = []        \n",
    "    for item in dataframe[coluna]:\n",
    "        reclassificado.append(unico.index(item))\n",
    "    \n",
    "    # Substituindo a coluna toda do DataFrame:\n",
    "    dataframe[coluna] = reclassificado\n",
    "    \n",
    "    # Retornando o novo DataFrame:\n",
    "    return dataframe"
   ]
  },
  {
   "cell_type": "code",
   "execution_count": null,
   "metadata": {},
   "outputs": [],
   "source": [
    "numerar(data, \"color\")\n",
    "numerar(data, \"actor_2_name\")\n",
    "numerar(data, \"director_name\")\n",
    "numerar(data, \"actor_1_name\")\n",
    "numerar(data, \"movie_title\")\n",
    "numerar(data, \"genres\")\n",
    "numerar(data, \"actor_3_name\")\n",
    "numerar(data, \"country\")\n",
    "numerar(data, \"content_rating\")\n",
    "data.head()"
   ]
  },
  {
   "cell_type": "markdown",
   "metadata": {},
   "source": [
    "## Separando variáveis para o Clustering ##"
   ]
  },
  {
   "cell_type": "code",
   "execution_count": null,
   "metadata": {},
   "outputs": [],
   "source": [
    "colunas"
   ]
  },
  {
   "cell_type": "code",
   "execution_count": null,
   "metadata": {},
   "outputs": [],
   "source": [
    "X = data.ix[:, (1,3,5,6,9,13,14)].values\n",
    "Y = data.ix[:, (0)].values"
   ]
  },
  {
   "cell_type": "markdown",
   "metadata": {},
   "source": [
    "## Clustering ##"
   ]
  },
  {
   "cell_type": "markdown",
   "metadata": {},
   "source": [
    "A função _AgglomerativeClustering_ executa um agrupamento hierárquico, que analisa de baixo para cima os clusters (se inicia em seu próprio e estes são mesclados sucessivamente). Os critérios usados na mesclagem são:\n",
    "\n",
    "    • Ward: nimiza a soma das diferenças quadradas dentro de todos os clusters. É semelhante ao método K-means, mas possui uma abordagem hierárquica aglomerativa.\n",
    "    • Complete linkage: é a distância máxima entre observações de pares de clusters.\n",
    "    • Avarege linkage: minimiza a média das distâncias entre todas as observações de pares de clusters. "
   ]
  },
  {
   "cell_type": "code",
   "execution_count": null,
   "metadata": {},
   "outputs": [],
   "source": [
    "#----------------------------- TESTANDO AFFINITY: EUCLIDEAN E lINKAGE: WARD -------------------------------------------------#\n",
    "\n",
    "k = 20\n",
    "\n",
    "Hclustering = AgglomerativeClustering(n_clusters=k, affinity=\"euclidean\", linkage=\"ward\")\n",
    "\n",
    "Hclustering.fit(X)\n",
    "\n",
    "sm.accuracy_score(Y, Hclustering.labels_)"
   ]
  },
  {
   "cell_type": "code",
   "execution_count": null,
   "metadata": {},
   "outputs": [],
   "source": [
    "#----------------------------- TESTANDO AFFINITY: EUCLIDEAN E lINKAGE: COMPLETE  ----------------------------------------------#\n",
    "\n",
    "k = 20\n",
    "\n",
    "Hclustering = AgglomerativeClustering(n_clusters=k, affinity=\"euclidean\", linkage=\"complete\")\n",
    "\n",
    "Hclustering.fit(X)\n",
    "\n",
    "sm.accuracy_score(Y, Hclustering.labels_)"
   ]
  },
  {
   "cell_type": "code",
   "execution_count": null,
   "metadata": {},
   "outputs": [],
   "source": [
    "#----------------------------- TESTANDO AFFINITY: EUCLIDEAN E lINKAGE: AVARAGE ------------------------------------------------#\n",
    "\n",
    "k = 20\n",
    "\n",
    "Hclustering = AgglomerativeClustering(n_clusters=k, affinity=\"euclidean\", linkage=\"average\")\n",
    "\n",
    "Hclustering.fit(X)\n",
    "\n",
    "sm.accuracy_score(Y, Hclustering.labels_)"
   ]
  },
  {
   "cell_type": "code",
   "execution_count": null,
   "metadata": {},
   "outputs": [],
   "source": [
    "#--------------------------- TESTANDO AFFINITY: MANHATTAN E lINKAGE: COMPLETE -------------------------------------------------#\n",
    "\n",
    "k = 20\n",
    "\n",
    "Hclustering = AgglomerativeClustering(n_clusters=k, affinity=\"manhattan\", linkage=\"complete\")\n",
    "\n",
    "Hclustering.fit(X)\n",
    "\n",
    "sm.accuracy_score(Y, Hclustering.labels_)"
   ]
  },
  {
   "cell_type": "code",
   "execution_count": null,
   "metadata": {},
   "outputs": [],
   "source": [
    "#----------------------------- TESTANDO AFFINITY: MANHATTAN E lINKAGE: AVARAGE -----------------------------------------------#\n",
    "\n",
    "k = 20\n",
    "\n",
    "Hclustering = AgglomerativeClustering(n_clusters=k, affinity=\"manhattan\", linkage=\"average\")\n",
    "\n",
    "Hclustering.fit(X)\n",
    "\n",
    "sm.accuracy_score(Y, Hclustering.labels_)"
   ]
  },
  {
   "cell_type": "code",
   "execution_count": null,
   "metadata": {},
   "outputs": [],
   "source": [
    "#----------------------------- TESTANDO AFFINITY: COSINE E lINKAGE: COMPLETE -------------------------------------------------#\n",
    "\n",
    "k = 20\n",
    "\n",
    "Hclustering = AgglomerativeClustering(n_clusters=k, affinity=\"cosine\", linkage=\"complete\")\n",
    "\n",
    "Hclustering.fit(X)\n",
    "\n",
    "sm.accuracy_score(Y, Hclustering.labels_)"
   ]
  },
  {
   "cell_type": "code",
   "execution_count": null,
   "metadata": {},
   "outputs": [],
   "source": [
    "#----------------------------- TESTANDO AFFINITY: COSINE E lINKAGE: AVARAGE -------------------------------------------------#\n",
    "\n",
    "k = 20\n",
    "\n",
    "Hclustering = AgglomerativeClustering(n_clusters=k, affinity=\"cosine\", linkage=\"average\")\n",
    "\n",
    "Hclustering.fit(X)\n",
    "\n",
    "sm.accuracy_score(Y, Hclustering.labels_)"
   ]
  },
  {
   "cell_type": "markdown",
   "metadata": {},
   "source": [
    "## Implementando melhor afinidade e _linkage_ ##"
   ]
  },
  {
   "cell_type": "code",
   "execution_count": null,
   "metadata": {
    "scrolled": false
   },
   "outputs": [],
   "source": [
    "k = 20\n",
    "\n",
    "Hclustering = AgglomerativeClustering(n_clusters=k, affinity=\"euclidean\", linkage=\"average\")\n",
    "\n",
    "Hclustering.fit(X)\n",
    "\n",
    "c = Hclustering.labels_\n",
    "\n",
    "pd.Series(Hclustering.labels_).value_counts()"
   ]
  },
  {
   "cell_type": "markdown",
   "metadata": {},
   "source": [
    "### Exemplo de um cluster - grupo 18 ###"
   ]
  },
  {
   "cell_type": "code",
   "execution_count": null,
   "metadata": {},
   "outputs": [],
   "source": [
    "data[c==18]"
   ]
  },
  {
   "cell_type": "markdown",
   "metadata": {},
   "source": [
    "## Dendograma ##"
   ]
  },
  {
   "cell_type": "markdown",
   "metadata": {},
   "source": [
    "#### Metódo utilizado: Cluster Hierárquico\n",
    "\n",
    "O cluster hierárquico é representado como uma árvore (dendograma), na qual a raíz é o cluster exclusivo que possui todas as amostras e as folhas, os clusters com apenas algumas.\n",
    "O dendograma abaixo resulta em 20 grupos. O eixo X nos dá a informação de quantos filmes estão agrupados em cada cluster. Já o eixo Y representa a distância entre os grupos."
   ]
  },
  {
   "cell_type": "code",
   "execution_count": null,
   "metadata": {},
   "outputs": [],
   "source": [
    "Z = linkage(X, \"ward\")\n",
    "\n",
    "f = dendrogram(Z, truncate_mode=\"lastp\", p=20, leaf_rotation=45., leaf_font_size=10., show_contracted=True)\n",
    "plt.title(\"Hierarchical Clustering Dendrogram\")\n",
    "plt.xlabel(\"Cluster Size\")\n",
    "plt.ylabel(\"Distance\")\n",
    "\n",
    "plt.axhline(y=4000)\n",
    "\n",
    "plt.show()"
   ]
  },
  {
   "cell_type": "markdown",
   "metadata": {},
   "source": [
    "### Adicionando uma nova coluna ao dataframe - cluster"
   ]
  },
  {
   "cell_type": "code",
   "execution_count": null,
   "metadata": {},
   "outputs": [],
   "source": [
    "dados['cluster'] = c\n",
    "dados.head()"
   ]
  },
  {
   "cell_type": "markdown",
   "metadata": {},
   "source": [
    "## Encontrando a playlist de um filme ##"
   ]
  },
  {
   "cell_type": "code",
   "execution_count": null,
   "metadata": {},
   "outputs": [],
   "source": [
    "a = dados.iloc[:1,:]\n",
    "a"
   ]
  },
  {
   "cell_type": "code",
   "execution_count": null,
   "metadata": {},
   "outputs": [],
   "source": [
    "d = a.cluster[0]\n",
    "d"
   ]
  },
  {
   "cell_type": "code",
   "execution_count": null,
   "metadata": {
    "scrolled": false
   },
   "outputs": [],
   "source": [
    "b = dados[c==d]\n",
    "b.sort_values(by=\"imdb_score\", ascending=False).head(5)"
   ]
  },
  {
   "cell_type": "markdown",
   "metadata": {},
   "source": [
    "## Conclusão"
   ]
  },
  {
   "cell_type": "markdown",
   "metadata": {},
   "source": [
    "A partir do _AgglomerativeClustering_ foi possível criar 20 grupos de filmes que possuiam características similares. "
   ]
  }
 ],
 "metadata": {
  "kernelspec": {
   "display_name": "Python 3",
   "language": "python",
   "name": "python3"
  },
  "language_info": {
   "codemirror_mode": {
    "name": "ipython",
    "version": 3
   },
   "file_extension": ".py",
   "mimetype": "text/x-python",
   "name": "python",
   "nbconvert_exporter": "python",
   "pygments_lexer": "ipython3",
   "version": "3.6.5"
  }
 },
 "nbformat": 4,
 "nbformat_minor": 2
}
